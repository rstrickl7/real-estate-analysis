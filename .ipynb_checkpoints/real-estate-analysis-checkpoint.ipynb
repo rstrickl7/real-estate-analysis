{
 "cells": [
  {
   "cell_type": "markdown",
   "metadata": {},
   "source": [
    "## Business Problem"
   ]
  },
  {
   "cell_type": "markdown",
   "metadata": {},
   "source": [
    "Real Estate firm wants a model to help them accurately price houses.\n",
    "- How should we price a house based on property features such as lot, footage, bedroom #, bathroom #, and renovations?\n",
    "<!-- - How should we price a house based on location such as zipcode and waterfront?  -->"
   ]
  },
  {
   "cell_type": "code",
   "execution_count": 1,
   "metadata": {},
   "outputs": [],
   "source": [
    "import pandas as pd\n",
    "import matplotlib.pyplot as plt\n",
    "import matplotlib.ticker as mtick\n",
    "import seaborn as sns\n",
    "import numpy as np\n",
    "import scipy.stats as stats\n",
    "import statsmodels.api as sm\n",
    "import warnings\n",
    "warnings.filterwarnings('ignore')\n",
    "\n",
    "from statsmodels.formula.api import ols\n",
    "from sklearn.feature_selection import RFE\n",
    "from sklearn.linear_model import LinearRegression\n",
    "from sklearn.metrics import mean_squared_error, r2_score, mean_absolute_error\n",
    "from sklearn.model_selection import KFold, cross_val_score\n",
    "from sklearn.preprocessing import LabelEncoder,  OneHotEncoder\n",
    "from sklearn.tree import DecisionTreeRegressor\n",
    "from sklearn.ensemble import RandomForestRegressor\n",
    "from sklearn.model_selection import train_test_split\n",
    "from sklearn.preprocessing import StandardScaler"
   ]
  },
  {
   "cell_type": "markdown",
   "metadata": {},
   "source": [
    "## Load Data"
   ]
  },
  {
   "cell_type": "code",
   "execution_count": 2,
   "metadata": {},
   "outputs": [],
   "source": [
    "df_column_names = ('data/column_names.md')\n",
    "df_house = pd.read_csv('data/kc_house_data.csv')"
   ]
  },
  {
   "cell_type": "code",
   "execution_count": 3,
   "metadata": {
    "scrolled": true
   },
   "outputs": [
    {
     "data": {
      "text/html": [
       "<div>\n",
       "<style scoped>\n",
       "    .dataframe tbody tr th:only-of-type {\n",
       "        vertical-align: middle;\n",
       "    }\n",
       "\n",
       "    .dataframe tbody tr th {\n",
       "        vertical-align: top;\n",
       "    }\n",
       "\n",
       "    .dataframe thead th {\n",
       "        text-align: right;\n",
       "    }\n",
       "</style>\n",
       "<table border=\"1\" class=\"dataframe\">\n",
       "  <thead>\n",
       "    <tr style=\"text-align: right;\">\n",
       "      <th></th>\n",
       "      <th>id</th>\n",
       "      <th>date</th>\n",
       "      <th>price</th>\n",
       "      <th>bedrooms</th>\n",
       "      <th>bathrooms</th>\n",
       "      <th>sqft_living</th>\n",
       "      <th>sqft_lot</th>\n",
       "      <th>floors</th>\n",
       "      <th>waterfront</th>\n",
       "      <th>view</th>\n",
       "      <th>...</th>\n",
       "      <th>grade</th>\n",
       "      <th>sqft_above</th>\n",
       "      <th>sqft_basement</th>\n",
       "      <th>yr_built</th>\n",
       "      <th>yr_renovated</th>\n",
       "      <th>zipcode</th>\n",
       "      <th>lat</th>\n",
       "      <th>long</th>\n",
       "      <th>sqft_living15</th>\n",
       "      <th>sqft_lot15</th>\n",
       "    </tr>\n",
       "  </thead>\n",
       "  <tbody>\n",
       "    <tr>\n",
       "      <th>0</th>\n",
       "      <td>7129300520</td>\n",
       "      <td>10/13/2014</td>\n",
       "      <td>221900.0</td>\n",
       "      <td>3</td>\n",
       "      <td>1.00</td>\n",
       "      <td>1180</td>\n",
       "      <td>5650</td>\n",
       "      <td>1.0</td>\n",
       "      <td>NaN</td>\n",
       "      <td>0.0</td>\n",
       "      <td>...</td>\n",
       "      <td>7</td>\n",
       "      <td>1180</td>\n",
       "      <td>0.0</td>\n",
       "      <td>1955</td>\n",
       "      <td>0.0</td>\n",
       "      <td>98178</td>\n",
       "      <td>47.5112</td>\n",
       "      <td>-122.257</td>\n",
       "      <td>1340</td>\n",
       "      <td>5650</td>\n",
       "    </tr>\n",
       "    <tr>\n",
       "      <th>1</th>\n",
       "      <td>6414100192</td>\n",
       "      <td>12/9/2014</td>\n",
       "      <td>538000.0</td>\n",
       "      <td>3</td>\n",
       "      <td>2.25</td>\n",
       "      <td>2570</td>\n",
       "      <td>7242</td>\n",
       "      <td>2.0</td>\n",
       "      <td>0.0</td>\n",
       "      <td>0.0</td>\n",
       "      <td>...</td>\n",
       "      <td>7</td>\n",
       "      <td>2170</td>\n",
       "      <td>400.0</td>\n",
       "      <td>1951</td>\n",
       "      <td>1991.0</td>\n",
       "      <td>98125</td>\n",
       "      <td>47.7210</td>\n",
       "      <td>-122.319</td>\n",
       "      <td>1690</td>\n",
       "      <td>7639</td>\n",
       "    </tr>\n",
       "    <tr>\n",
       "      <th>2</th>\n",
       "      <td>5631500400</td>\n",
       "      <td>2/25/2015</td>\n",
       "      <td>180000.0</td>\n",
       "      <td>2</td>\n",
       "      <td>1.00</td>\n",
       "      <td>770</td>\n",
       "      <td>10000</td>\n",
       "      <td>1.0</td>\n",
       "      <td>0.0</td>\n",
       "      <td>0.0</td>\n",
       "      <td>...</td>\n",
       "      <td>6</td>\n",
       "      <td>770</td>\n",
       "      <td>0.0</td>\n",
       "      <td>1933</td>\n",
       "      <td>NaN</td>\n",
       "      <td>98028</td>\n",
       "      <td>47.7379</td>\n",
       "      <td>-122.233</td>\n",
       "      <td>2720</td>\n",
       "      <td>8062</td>\n",
       "    </tr>\n",
       "    <tr>\n",
       "      <th>3</th>\n",
       "      <td>2487200875</td>\n",
       "      <td>12/9/2014</td>\n",
       "      <td>604000.0</td>\n",
       "      <td>4</td>\n",
       "      <td>3.00</td>\n",
       "      <td>1960</td>\n",
       "      <td>5000</td>\n",
       "      <td>1.0</td>\n",
       "      <td>0.0</td>\n",
       "      <td>0.0</td>\n",
       "      <td>...</td>\n",
       "      <td>7</td>\n",
       "      <td>1050</td>\n",
       "      <td>910.0</td>\n",
       "      <td>1965</td>\n",
       "      <td>0.0</td>\n",
       "      <td>98136</td>\n",
       "      <td>47.5208</td>\n",
       "      <td>-122.393</td>\n",
       "      <td>1360</td>\n",
       "      <td>5000</td>\n",
       "    </tr>\n",
       "    <tr>\n",
       "      <th>4</th>\n",
       "      <td>1954400510</td>\n",
       "      <td>2/18/2015</td>\n",
       "      <td>510000.0</td>\n",
       "      <td>3</td>\n",
       "      <td>2.00</td>\n",
       "      <td>1680</td>\n",
       "      <td>8080</td>\n",
       "      <td>1.0</td>\n",
       "      <td>0.0</td>\n",
       "      <td>0.0</td>\n",
       "      <td>...</td>\n",
       "      <td>8</td>\n",
       "      <td>1680</td>\n",
       "      <td>0.0</td>\n",
       "      <td>1987</td>\n",
       "      <td>0.0</td>\n",
       "      <td>98074</td>\n",
       "      <td>47.6168</td>\n",
       "      <td>-122.045</td>\n",
       "      <td>1800</td>\n",
       "      <td>7503</td>\n",
       "    </tr>\n",
       "  </tbody>\n",
       "</table>\n",
       "<p>5 rows × 21 columns</p>\n",
       "</div>"
      ],
      "text/plain": [
       "           id        date     price  bedrooms  bathrooms  sqft_living  \\\n",
       "0  7129300520  10/13/2014  221900.0         3       1.00         1180   \n",
       "1  6414100192   12/9/2014  538000.0         3       2.25         2570   \n",
       "2  5631500400   2/25/2015  180000.0         2       1.00          770   \n",
       "3  2487200875   12/9/2014  604000.0         4       3.00         1960   \n",
       "4  1954400510   2/18/2015  510000.0         3       2.00         1680   \n",
       "\n",
       "   sqft_lot  floors  waterfront  view  ...  grade  sqft_above  sqft_basement  \\\n",
       "0      5650     1.0         NaN   0.0  ...      7        1180            0.0   \n",
       "1      7242     2.0         0.0   0.0  ...      7        2170          400.0   \n",
       "2     10000     1.0         0.0   0.0  ...      6         770            0.0   \n",
       "3      5000     1.0         0.0   0.0  ...      7        1050          910.0   \n",
       "4      8080     1.0         0.0   0.0  ...      8        1680            0.0   \n",
       "\n",
       "  yr_built  yr_renovated  zipcode      lat     long  sqft_living15  sqft_lot15  \n",
       "0     1955           0.0    98178  47.5112 -122.257           1340        5650  \n",
       "1     1951        1991.0    98125  47.7210 -122.319           1690        7639  \n",
       "2     1933           NaN    98028  47.7379 -122.233           2720        8062  \n",
       "3     1965           0.0    98136  47.5208 -122.393           1360        5000  \n",
       "4     1987           0.0    98074  47.6168 -122.045           1800        7503  \n",
       "\n",
       "[5 rows x 21 columns]"
      ]
     },
     "execution_count": 3,
     "metadata": {},
     "output_type": "execute_result"
    }
   ],
   "source": [
    "df_house.head()"
   ]
  },
  {
   "cell_type": "markdown",
   "metadata": {},
   "source": [
    "   - id - unique identifier for a house\n",
    "   - date - Date house was sold\n",
    "   - price - Price is prediction target\n",
    "   - bedrooms - Number of Bedrooms/House\n",
    "   - bathrooms - Number of bathrooms/bedrooms\n",
    "   - sqft_livingsquare - footage of the home\n",
    "   - sqft_lotsquare - footage of the lot\n",
    "   - floorsTotal - floors (levels) in house\n",
    "   - waterfront - House which has a view to a waterfront\n",
    "   - view - # of views\n",
    "   - condition - How good the condition is ( Overall )\n",
    "   - grade - overall grade given to the housing unit, based on King County grading system\n",
    "   - sqft_above - square footage of house apart from basement\n",
    "   - sqft_basement - square footage of the basement\n",
    "   - yr_built - Built Year\n",
    "   - yr_renovated - Year when house was renovated\n",
    "   - zipcode - zip\n",
    "   - lat - Latitude coordinate\n",
    "   - long - Longitude coordinate\n",
    "   - sqft_living15 - The square footage of interior housing living space for the nearest 15 neighbors\n",
    "   - sqft_lot15 - The square footage of the land lots of the nearest 15 neighbors"
   ]
  },
  {
   "cell_type": "markdown",
   "metadata": {},
   "source": [
    "## Data Exploration "
   ]
  },
  {
   "cell_type": "code",
   "execution_count": 4,
   "metadata": {},
   "outputs": [
    {
     "name": "stdout",
     "output_type": "stream",
     "text": [
      "<class 'pandas.core.frame.DataFrame'>\n",
      "RangeIndex: 21597 entries, 0 to 21596\n",
      "Data columns (total 21 columns):\n",
      " #   Column         Non-Null Count  Dtype  \n",
      "---  ------         --------------  -----  \n",
      " 0   id             21597 non-null  int64  \n",
      " 1   date           21597 non-null  object \n",
      " 2   price          21597 non-null  float64\n",
      " 3   bedrooms       21597 non-null  int64  \n",
      " 4   bathrooms      21597 non-null  float64\n",
      " 5   sqft_living    21597 non-null  int64  \n",
      " 6   sqft_lot       21597 non-null  int64  \n",
      " 7   floors         21597 non-null  float64\n",
      " 8   waterfront     19221 non-null  float64\n",
      " 9   view           21534 non-null  float64\n",
      " 10  condition      21597 non-null  int64  \n",
      " 11  grade          21597 non-null  int64  \n",
      " 12  sqft_above     21597 non-null  int64  \n",
      " 13  sqft_basement  21597 non-null  object \n",
      " 14  yr_built       21597 non-null  int64  \n",
      " 15  yr_renovated   17755 non-null  float64\n",
      " 16  zipcode        21597 non-null  int64  \n",
      " 17  lat            21597 non-null  float64\n",
      " 18  long           21597 non-null  float64\n",
      " 19  sqft_living15  21597 non-null  int64  \n",
      " 20  sqft_lot15     21597 non-null  int64  \n",
      "dtypes: float64(8), int64(11), object(2)\n",
      "memory usage: 3.5+ MB\n"
     ]
    }
   ],
   "source": [
    "df_house.info()"
   ]
  },
  {
   "cell_type": "markdown",
   "metadata": {},
   "source": [
    "#### Fields with nulls: waterfront, view,  yr_renovated\n"
   ]
  },
  {
   "cell_type": "code",
   "execution_count": 5,
   "metadata": {},
   "outputs": [
    {
     "name": "stdout",
     "output_type": "stream",
     "text": [
      "id \n",
      " 795000620     0.000139\n",
      "1825069031    0.000093\n",
      "2019200220    0.000093\n",
      "7129304540    0.000093\n",
      "1781500435    0.000093\n",
      "Name: id, dtype: float64 \n",
      "\n",
      "\n",
      "date \n",
      " 6/23/2014    0.006575\n",
      "6/25/2014    0.006066\n",
      "6/26/2014    0.006066\n",
      "7/8/2014     0.005880\n",
      "4/27/2015    0.005834\n",
      "Name: date, dtype: float64 \n",
      "\n",
      "\n",
      "price \n",
      " 350000.0    0.007964\n",
      "450000.0    0.007964\n",
      "550000.0    0.007362\n",
      "500000.0    0.007038\n",
      "425000.0    0.006945\n",
      "Name: price, dtype: float64 \n",
      "\n",
      "\n",
      "bedrooms \n",
      " 3    0.454878\n",
      "4    0.318655\n",
      "2    0.127796\n",
      "5    0.074131\n",
      "6    0.012594\n",
      "Name: bedrooms, dtype: float64 \n",
      "\n",
      "\n",
      "bathrooms \n",
      " 2.50    0.248970\n",
      "1.00    0.178312\n",
      "1.75    0.141131\n",
      "2.25    0.094782\n",
      "2.00    0.089364\n",
      "Name: bathrooms, dtype: float64 \n",
      "\n",
      "\n",
      "sqft_living \n",
      " 1300    0.006390\n",
      "1400    0.006251\n",
      "1440    0.006158\n",
      "1660    0.005973\n",
      "1010    0.005973\n",
      "Name: sqft_living, dtype: float64 \n",
      "\n",
      "\n",
      "sqft_lot \n",
      " 5000    0.016576\n",
      "6000    0.013428\n",
      "4000    0.011622\n",
      "7200    0.010187\n",
      "7500    0.005510\n",
      "Name: sqft_lot, dtype: float64 \n",
      "\n",
      "\n",
      "floors \n",
      " 1.0    0.494189\n",
      "2.0    0.381303\n",
      "1.5    0.088438\n",
      "3.0    0.028291\n",
      "2.5    0.007455\n",
      "Name: floors, dtype: float64 \n",
      "\n",
      "\n",
      "waterfront \n",
      " 0.0    0.992404\n",
      "1.0    0.007596\n",
      "Name: waterfront, dtype: float64 \n",
      "\n",
      "\n",
      "view \n",
      " 0.0    0.901923\n",
      "2.0    0.044441\n",
      "3.0    0.023591\n",
      "1.0    0.015325\n",
      "4.0    0.014721\n",
      "Name: view, dtype: float64 \n",
      "\n",
      "\n",
      "condition \n",
      " 3    0.649164\n",
      "4    0.262861\n",
      "5    0.078761\n",
      "2    0.007871\n",
      "1    0.001343\n",
      "Name: condition, dtype: float64 \n",
      "\n",
      "\n",
      "grade \n",
      " 7     0.415521\n",
      "8     0.280826\n",
      "9     0.121082\n",
      "6     0.094365\n",
      "10    0.052507\n",
      "Name: grade, dtype: float64 \n",
      "\n",
      "\n",
      "sqft_above \n",
      " 1300    0.009816\n",
      "1010    0.009724\n",
      "1200    0.009538\n",
      "1220    0.008890\n",
      "1140    0.008520\n",
      "Name: sqft_above, dtype: float64 \n",
      "\n",
      "\n",
      "sqft_basement \n",
      " 0.0      0.593879\n",
      "?        0.021021\n",
      "600.0    0.010048\n",
      "500.0    0.009677\n",
      "700.0    0.009631\n",
      "Name: sqft_basement, dtype: float64 \n",
      "\n",
      "\n",
      "yr_built \n",
      " 2014    0.025883\n",
      "2006    0.020975\n",
      "2005    0.020836\n",
      "2004    0.020049\n",
      "2003    0.019447\n",
      "Name: yr_built, dtype: float64 \n",
      "\n",
      "\n",
      "yr_renovated \n",
      " 0.0       0.958096\n",
      "2014.0    0.004112\n",
      "2003.0    0.001746\n",
      "2013.0    0.001746\n",
      "2007.0    0.001690\n",
      "Name: yr_renovated, dtype: float64 \n",
      "\n",
      "\n",
      "zipcode \n",
      " 98103    0.027874\n",
      "98038    0.027272\n",
      "98115    0.026994\n",
      "98052    0.026578\n",
      "98117    0.025605\n",
      "Name: zipcode, dtype: float64 \n",
      "\n",
      "\n",
      "lat \n",
      " 47.6624    0.000787\n",
      "47.5491    0.000787\n",
      "47.5322    0.000787\n",
      "47.6846    0.000787\n",
      "47.6711    0.000741\n",
      "Name: lat, dtype: float64 \n",
      "\n",
      "\n",
      "long \n",
      " -122.290    0.005325\n",
      "-122.300    0.005140\n",
      "-122.362    0.004815\n",
      "-122.291    0.004630\n",
      "-122.372    0.004584\n",
      "Name: long, dtype: float64 \n",
      "\n",
      "\n",
      "sqft_living15 \n",
      " 1540    0.009122\n",
      "1440    0.009029\n",
      "1560    0.008890\n",
      "1500    0.008334\n",
      "1460    0.007825\n",
      "Name: sqft_living15, dtype: float64 \n",
      "\n",
      "\n",
      "sqft_lot15 \n",
      " 5000    0.019771\n",
      "4000    0.016484\n",
      "6000    0.013335\n",
      "7200    0.009724\n",
      "4800    0.006714\n",
      "Name: sqft_lot15, dtype: float64 \n",
      "\n",
      "\n"
     ]
    }
   ],
   "source": [
    "# print top 5 most frequent values in each column\n",
    "for col in df_house.columns:\n",
    "    print(col, '\\n', df_house[col].value_counts(normalize=True).head(), '\\n\\n')"
   ]
  },
  {
   "cell_type": "markdown",
   "metadata": {},
   "source": [
    "#### view is mostly zeros, yr_renovated is mostly zero, waterfront is mostly zero, sqft_basement mostly zero and '?'"
   ]
  },
  {
   "cell_type": "code",
   "execution_count": 6,
   "metadata": {
    "scrolled": true
   },
   "outputs": [
    {
     "data": {
      "text/plain": [
       "0.0    0.992404\n",
       "1.0    0.007596\n",
       "Name: waterfront, dtype: float64"
      ]
     },
     "execution_count": 6,
     "metadata": {},
     "output_type": "execute_result"
    }
   ],
   "source": [
    "df_house['waterfront'].value_counts(normalize=True)\n",
    "# Make waterfront boolean where nulls are non waterfront properties|"
   ]
  },
  {
   "cell_type": "code",
   "execution_count": 7,
   "metadata": {
    "scrolled": true
   },
   "outputs": [
    {
     "data": {
      "text/plain": [
       "0.0    0.901923\n",
       "2.0    0.044441\n",
       "3.0    0.023591\n",
       "1.0    0.015325\n",
       "4.0    0.014721\n",
       "Name: view, dtype: float64"
      ]
     },
     "execution_count": 7,
     "metadata": {},
     "output_type": "execute_result"
    }
   ],
   "source": [
    "df_house['view'].value_counts(normalize=True)\n",
    "# Make view boolean where nulls are properties without a view"
   ]
  },
  {
   "cell_type": "code",
   "execution_count": 8,
   "metadata": {},
   "outputs": [
    {
     "data": {
      "text/plain": [
       "0.0       0.958096\n",
       "2014.0    0.004112\n",
       "2003.0    0.001746\n",
       "2013.0    0.001746\n",
       "2007.0    0.001690\n",
       "            ...   \n",
       "1946.0    0.000056\n",
       "1959.0    0.000056\n",
       "1971.0    0.000056\n",
       "1951.0    0.000056\n",
       "1954.0    0.000056\n",
       "Name: yr_renovated, Length: 70, dtype: float64"
      ]
     },
     "execution_count": 8,
     "metadata": {},
     "output_type": "execute_result"
    }
   ],
   "source": [
    "df_house['yr_renovated'].value_counts(normalize=True)\n",
    "# Make yr_renovated boolean where nulls are unrenovated properties"
   ]
  },
  {
   "cell_type": "code",
   "execution_count": 9,
   "metadata": {},
   "outputs": [
    {
     "data": {
      "text/plain": [
       "[3, 4, 5, 6, 7, 8, 9, 10, 11, 12, 13]"
      ]
     },
     "execution_count": 9,
     "metadata": {},
     "output_type": "execute_result"
    }
   ],
   "source": [
    "# check all unique values for 'grade'\n",
    "grade_values = list(df_house['grade'].unique())\n",
    "grade_values.sort()\n",
    "grade_values"
   ]
  },
  {
   "cell_type": "code",
   "execution_count": 10,
   "metadata": {
    "scrolled": true
   },
   "outputs": [
    {
     "data": {
      "text/plain": [
       "[1, 2, 3, 4, 5]"
      ]
     },
     "execution_count": 10,
     "metadata": {},
     "output_type": "execute_result"
    }
   ],
   "source": [
    "# check all unique values for 'condition'\n",
    "condition_values = list(df_house['condition'].unique())\n",
    "condition_values.sort()\n",
    "condition_values"
   ]
  },
  {
   "cell_type": "code",
   "execution_count": 11,
   "metadata": {},
   "outputs": [
    {
     "data": {
      "text/plain": [
       "177"
      ]
     },
     "execution_count": 11,
     "metadata": {},
     "output_type": "execute_result"
    }
   ],
   "source": [
    "# check for identical home\n",
    "sum(df_house.duplicated(subset=['id']))"
   ]
  },
  {
   "cell_type": "code",
   "execution_count": 12,
   "metadata": {},
   "outputs": [
    {
     "data": {
      "text/plain": [
       "0"
      ]
     },
     "execution_count": 12,
     "metadata": {},
     "output_type": "execute_result"
    }
   ],
   "source": [
    "# check for identical home / sale date rows\n",
    "sum(df_house.duplicated(subset=['id','date']))"
   ]
  },
  {
   "cell_type": "code",
   "execution_count": 13,
   "metadata": {},
   "outputs": [
    {
     "data": {
      "text/plain": [
       "6/23/2014     0.006575\n",
       "6/25/2014     0.006066\n",
       "6/26/2014     0.006066\n",
       "7/8/2014      0.005880\n",
       "4/27/2015     0.005834\n",
       "                ...   \n",
       "8/3/2014      0.000046\n",
       "7/27/2014     0.000046\n",
       "5/27/2015     0.000046\n",
       "11/30/2014    0.000046\n",
       "1/31/2015     0.000046\n",
       "Name: date, Length: 372, dtype: float64"
      ]
     },
     "execution_count": 13,
     "metadata": {},
     "output_type": "execute_result"
    }
   ],
   "source": [
    "df_house['date'].value_counts(normalize=True)"
   ]
  },
  {
   "cell_type": "markdown",
   "metadata": {},
   "source": [
    "#### Only houses sold in 2014 and 2015 are in our data. This will limit how successful our model will be when used to predict pricing in the 2021 market."
   ]
  },
  {
   "cell_type": "code",
   "execution_count": 14,
   "metadata": {},
   "outputs": [
    {
     "data": {
      "image/png": "[encoded data removed]",
      "text/plain": [
       "<Figure size 1152x288 with 1 Axes>"
      ]
     },
     "metadata": {
      "needs_background": "light"
     },
     "output_type": "display_data"
    }
   ],
   "source": [
    "# Plot of the target column price\n",
    "plt.figure(figsize = (16, 4))\n",
    "sns.distplot(a = df_house[\"price\"], color = \"#FF7F50\")\n",
    "plt.title(\"Distribution of Price\", fontsize=16);"
   ]
  },
  {
   "cell_type": "markdown",
   "metadata": {},
   "source": [
    "#### skewed distribution"
   ]
  },
  {
   "cell_type": "code",
   "execution_count": 15,
   "metadata": {},
   "outputs": [
    {
     "data": {
      "image/png": "[encoded data removed]",
      "text/plain": [
       "<Figure size 1152x288 with 1 Axes>"
      ]
     },
     "metadata": {
      "needs_background": "light"
     },
     "output_type": "display_data"
    }
   ],
   "source": [
    "# Plot of the sqft_living column\n",
    "plt.figure(figsize = (16, 4))\n",
    "sns.distplot(a = df_house[\"sqft_living\"], color = \"#FF7F50\")\n",
    "plt.title(\"Distribution of sqft_living\", fontsize=16);"
   ]
  },
  {
   "cell_type": "markdown",
   "metadata": {},
   "source": [
    "#### skewed distribution"
   ]
  },
  {
   "cell_type": "markdown",
   "metadata": {},
   "source": [
    "Should look at the effect of log of price and log of sqft_living on the skew in data prep"
   ]
  },
  {
   "cell_type": "markdown",
   "metadata": {},
   "source": [
    "## Data Preparation"
   ]
  },
  {
   "cell_type": "markdown",
   "metadata": {},
   "source": [
    "### Remove unecessary features\n",
    "Before removing features we will want to run tests to see which features are highly correlated or important to the model. However there are four columns I believe are reasonable to remove.\n",
    "#### Columns to remove:\n",
    "   - id - unique identifier for a house\n",
    "    - not needed for modeling\n",
    "   - lat - Latitude coordinate\n",
    "   - long - Longitude coordinate\n",
    "   - zipcode - zip\n",
    "    - to simplify analysis we will not include location information"
   ]
  },
  {
   "cell_type": "code",
   "execution_count": 16,
   "metadata": {},
   "outputs": [],
   "source": [
    "df_house = df_house.drop(['id', 'lat', 'long', 'zipcode'], axis=1)"
   ]
  },
  {
   "cell_type": "markdown",
   "metadata": {},
   "source": [
    "### Missing Values"
   ]
  },
  {
   "cell_type": "code",
   "execution_count": 17,
   "metadata": {},
   "outputs": [],
   "source": [
    "# Fields with nulls: waterfront, view,  yr_renovated\n",
    "df_house.waterfront.fillna(0, inplace=True)\n",
    "df_house.view.fillna(0, inplace=True)\n",
    "df_house.yr_renovated.fillna(0, inplace=True)"
   ]
  },
  {
   "cell_type": "markdown",
   "metadata": {},
   "source": [
    "### Reformat Data and Feature Engineer"
   ]
  },
  {
   "cell_type": "markdown",
   "metadata": {},
   "source": [
    "#### New Feature -  season_sold"
   ]
  },
  {
   "cell_type": "code",
   "execution_count": 18,
   "metadata": {},
   "outputs": [
    {
     "data": {
      "text/plain": [
       "2014    0.677038\n",
       "2015    0.322962\n",
       "Name: year_sold, dtype: float64"
      ]
     },
     "execution_count": 18,
     "metadata": {},
     "output_type": "execute_result"
    }
   ],
   "source": [
    "# create a year column instead of date\n",
    "df_house['year_sold'] = df_house['date'].apply(lambda x: int(x[-4:]))\n",
    "df_house['year_sold'].value_counts(normalize=True)"
   ]
  },
  {
   "cell_type": "code",
   "execution_count": 19,
   "metadata": {},
   "outputs": [],
   "source": [
    "# Create function for season of sale to account for seasonality in pricing\n",
    "def season(month):\n",
    "    if month == 12 or 1 <= month <= 2:\n",
    "        season = 'Winter'\n",
    "    elif 3 <= month <= 5:\n",
    "        season = 'Spring'\n",
    "    elif 6 <= month <= 8:\n",
    "        season = 'Summer'\n",
    "    else:\n",
    "        season = 'Fall'\n",
    "    return season"
   ]
  },
  {
   "cell_type": "code",
   "execution_count": 20,
   "metadata": {},
   "outputs": [],
   "source": [
    "# to use our function convert date to datetime\n",
    "df_house['date'] = pd.to_datetime(df_house['date'])\n",
    "# find month_sold\n",
    "df_house['month_sold'] = df_house['date'].dt.month"
   ]
  },
  {
   "cell_type": "code",
   "execution_count": 21,
   "metadata": {},
   "outputs": [
    {
     "data": {
      "text/plain": [
       "Spring    0.301801\n",
       "Summer    0.293004\n",
       "Fall      0.234107\n",
       "Winter    0.171089\n",
       "Name: season_sold, dtype: float64"
      ]
     },
     "execution_count": 21,
     "metadata": {},
     "output_type": "execute_result"
    }
   ],
   "source": [
    "df_house['season_sold'] = df_house['month_sold'].apply(season)\n",
    "df_house['season_sold'].value_counts(normalize=True)"
   ]
  },
  {
   "cell_type": "markdown",
   "metadata": {},
   "source": [
    "More houses sold in Spring and Summer than Fall and Winter. This could mean that houses sell at higher prices in Spring and Summer. Intuitively this makes sense based on general knowledge of housing markets."
   ]
  },
  {
   "cell_type": "code",
   "execution_count": 22,
   "metadata": {},
   "outputs": [],
   "source": [
    "df_house = df_house.drop(['date','month_sold'], axis=1)"
   ]
  },
  {
   "cell_type": "markdown",
   "metadata": {},
   "source": [
    "#### New Feature -  basement"
   ]
  },
  {
   "cell_type": "code",
   "execution_count": 23,
   "metadata": {},
   "outputs": [],
   "source": [
    "# Convert sqft_basement col to basement col which indicates whether or not there is a basement\n",
    "# assume '0.0' and '?' values mean no basement\n",
    "df_house['sqft_basement'] = df_house['sqft_basement'].map(lambda x: 0 if x == '?' else x)\n",
    "# convert column to float\n",
    "df_house['sqft_basement'] = df_house['sqft_basement'].astype('float')\n",
    "# add column called basement\n",
    "df_house['basement'] = df_house['sqft_basement'].map(lambda x: 1 if x > 0 else 0)\n",
    "# remove the 'sqft_basement' column\n",
    "df_house = df_house.drop(['sqft_basement'], axis=1)"
   ]
  },
  {
   "cell_type": "markdown",
   "metadata": {},
   "source": [
    "#### Update Feature - scale grade"
   ]
  },
  {
   "cell_type": "code",
   "execution_count": 24,
   "metadata": {
    "scrolled": false
   },
   "outputs": [
    {
     "data": {
      "text/plain": [
       "[0, 1, 2, 3, 4, 5, 6, 7, 8, 9, 10]"
      ]
     },
     "execution_count": 24,
     "metadata": {},
     "output_type": "execute_result"
    }
   ],
   "source": [
    "# Change scale of grade to 0 - 10 so it's more intuitive\n",
    "df_house['grade'] = df_house['grade'].map(lambda x: x-3)\n",
    "grade_values = list(df_house['grade'].unique())\n",
    "grade_values.sort()\n",
    "grade_values"
   ]
  },
  {
   "cell_type": "markdown",
   "metadata": {},
   "source": [
    "#### New Feature - renovated_in_2000s"
   ]
  },
  {
   "cell_type": "code",
   "execution_count": 25,
   "metadata": {},
   "outputs": [],
   "source": [
    "# define function for year renovated only counting houses renovated 2000 or later as being renovated\n",
    "def renovation(year):\n",
    "    if year >= 2000:\n",
    "        return 1\n",
    "    else:\n",
    "        return 0"
   ]
  },
  {
   "cell_type": "code",
   "execution_count": 26,
   "metadata": {
    "scrolled": true
   },
   "outputs": [
    {
     "data": {
      "text/plain": [
       "0    21218\n",
       "1      379\n",
       "Name: renovated_in_2000s, dtype: int64"
      ]
     },
     "execution_count": 26,
     "metadata": {},
     "output_type": "execute_result"
    }
   ],
   "source": [
    "# apply function to the 'yr_renovated' column\n",
    "df_house['yr_renovated']  = df_house['yr_renovated'].apply(renovation)\n",
    "\n",
    "# rename column\n",
    "df_house.rename({'yr_renovated': 'renovated_in_2000s'}, axis=1, inplace=True)\n",
    "df_house['renovated_in_2000s'].value_counts()"
   ]
  },
  {
   "cell_type": "markdown",
   "metadata": {},
   "source": [
    "#### New Feature - viewed"
   ]
  },
  {
   "cell_type": "code",
   "execution_count": 27,
   "metadata": {},
   "outputs": [],
   "source": [
    "# binary classification of view\n",
    "def views(count):\n",
    "    if count > 0:\n",
    "        return 1\n",
    "    else:\n",
    "        return 0"
   ]
  },
  {
   "cell_type": "code",
   "execution_count": 28,
   "metadata": {},
   "outputs": [],
   "source": [
    "# apply function to 'view' column\n",
    "df_house['view'] = df_house['view'].apply(views)\n",
    "# rename view column\n",
    "df_house.rename({'view': 'viewed'}, axis=1, inplace=True)"
   ]
  },
  {
   "cell_type": "code",
   "execution_count": 29,
   "metadata": {
    "scrolled": true
   },
   "outputs": [
    {
     "data": {
      "text/plain": [
       "0    0.902209\n",
       "1    0.097791\n",
       "Name: viewed, dtype: float64"
      ]
     },
     "execution_count": 29,
     "metadata": {},
     "output_type": "execute_result"
    }
   ],
   "source": [
    "df_house['viewed'].value_counts(normalize=True)"
   ]
  },
  {
   "cell_type": "code",
   "execution_count": 30,
   "metadata": {
    "scrolled": true
   },
   "outputs": [
    {
     "data": {
      "text/html": [
       "<div>\n",
       "<style scoped>\n",
       "    .dataframe tbody tr th:only-of-type {\n",
       "        vertical-align: middle;\n",
       "    }\n",
       "\n",
       "    .dataframe tbody tr th {\n",
       "        vertical-align: top;\n",
       "    }\n",
       "\n",
       "    .dataframe thead th {\n",
       "        text-align: right;\n",
       "    }\n",
       "</style>\n",
       "<table border=\"1\" class=\"dataframe\">\n",
       "  <thead>\n",
       "    <tr style=\"text-align: right;\">\n",
       "      <th></th>\n",
       "      <th>price</th>\n",
       "      <th>bedrooms</th>\n",
       "      <th>bathrooms</th>\n",
       "      <th>sqft_living</th>\n",
       "      <th>sqft_lot</th>\n",
       "      <th>floors</th>\n",
       "      <th>waterfront</th>\n",
       "      <th>viewed</th>\n",
       "      <th>condition</th>\n",
       "      <th>grade</th>\n",
       "      <th>sqft_above</th>\n",
       "      <th>yr_built</th>\n",
       "      <th>renovated_in_2000s</th>\n",
       "      <th>sqft_living15</th>\n",
       "      <th>sqft_lot15</th>\n",
       "      <th>year_sold</th>\n",
       "      <th>season_sold</th>\n",
       "      <th>basement</th>\n",
       "    </tr>\n",
       "  </thead>\n",
       "  <tbody>\n",
       "    <tr>\n",
       "      <th>0</th>\n",
       "      <td>221900.0</td>\n",
       "      <td>3</td>\n",
       "      <td>1.00</td>\n",
       "      <td>1180</td>\n",
       "      <td>5650</td>\n",
       "      <td>1.0</td>\n",
       "      <td>0.0</td>\n",
       "      <td>0</td>\n",
       "      <td>3</td>\n",
       "      <td>4</td>\n",
       "      <td>1180</td>\n",
       "      <td>1955</td>\n",
       "      <td>0</td>\n",
       "      <td>1340</td>\n",
       "      <td>5650</td>\n",
       "      <td>2014</td>\n",
       "      <td>Fall</td>\n",
       "      <td>0</td>\n",
       "    </tr>\n",
       "    <tr>\n",
       "      <th>1</th>\n",
       "      <td>538000.0</td>\n",
       "      <td>3</td>\n",
       "      <td>2.25</td>\n",
       "      <td>2570</td>\n",
       "      <td>7242</td>\n",
       "      <td>2.0</td>\n",
       "      <td>0.0</td>\n",
       "      <td>0</td>\n",
       "      <td>3</td>\n",
       "      <td>4</td>\n",
       "      <td>2170</td>\n",
       "      <td>1951</td>\n",
       "      <td>0</td>\n",
       "      <td>1690</td>\n",
       "      <td>7639</td>\n",
       "      <td>2014</td>\n",
       "      <td>Winter</td>\n",
       "      <td>1</td>\n",
       "    </tr>\n",
       "    <tr>\n",
       "      <th>2</th>\n",
       "      <td>180000.0</td>\n",
       "      <td>2</td>\n",
       "      <td>1.00</td>\n",
       "      <td>770</td>\n",
       "      <td>10000</td>\n",
       "      <td>1.0</td>\n",
       "      <td>0.0</td>\n",
       "      <td>0</td>\n",
       "      <td>3</td>\n",
       "      <td>3</td>\n",
       "      <td>770</td>\n",
       "      <td>1933</td>\n",
       "      <td>0</td>\n",
       "      <td>2720</td>\n",
       "      <td>8062</td>\n",
       "      <td>2015</td>\n",
       "      <td>Winter</td>\n",
       "      <td>0</td>\n",
       "    </tr>\n",
       "    <tr>\n",
       "      <th>3</th>\n",
       "      <td>604000.0</td>\n",
       "      <td>4</td>\n",
       "      <td>3.00</td>\n",
       "      <td>1960</td>\n",
       "      <td>5000</td>\n",
       "      <td>1.0</td>\n",
       "      <td>0.0</td>\n",
       "      <td>0</td>\n",
       "      <td>5</td>\n",
       "      <td>4</td>\n",
       "      <td>1050</td>\n",
       "      <td>1965</td>\n",
       "      <td>0</td>\n",
       "      <td>1360</td>\n",
       "      <td>5000</td>\n",
       "      <td>2014</td>\n",
       "      <td>Winter</td>\n",
       "      <td>1</td>\n",
       "    </tr>\n",
       "    <tr>\n",
       "      <th>4</th>\n",
       "      <td>510000.0</td>\n",
       "      <td>3</td>\n",
       "      <td>2.00</td>\n",
       "      <td>1680</td>\n",
       "      <td>8080</td>\n",
       "      <td>1.0</td>\n",
       "      <td>0.0</td>\n",
       "      <td>0</td>\n",
       "      <td>3</td>\n",
       "      <td>5</td>\n",
       "      <td>1680</td>\n",
       "      <td>1987</td>\n",
       "      <td>0</td>\n",
       "      <td>1800</td>\n",
       "      <td>7503</td>\n",
       "      <td>2015</td>\n",
       "      <td>Winter</td>\n",
       "      <td>0</td>\n",
       "    </tr>\n",
       "    <tr>\n",
       "      <th>...</th>\n",
       "      <td>...</td>\n",
       "      <td>...</td>\n",
       "      <td>...</td>\n",
       "      <td>...</td>\n",
       "      <td>...</td>\n",
       "      <td>...</td>\n",
       "      <td>...</td>\n",
       "      <td>...</td>\n",
       "      <td>...</td>\n",
       "      <td>...</td>\n",
       "      <td>...</td>\n",
       "      <td>...</td>\n",
       "      <td>...</td>\n",
       "      <td>...</td>\n",
       "      <td>...</td>\n",
       "      <td>...</td>\n",
       "      <td>...</td>\n",
       "      <td>...</td>\n",
       "    </tr>\n",
       "    <tr>\n",
       "      <th>21592</th>\n",
       "      <td>360000.0</td>\n",
       "      <td>3</td>\n",
       "      <td>2.50</td>\n",
       "      <td>1530</td>\n",
       "      <td>1131</td>\n",
       "      <td>3.0</td>\n",
       "      <td>0.0</td>\n",
       "      <td>0</td>\n",
       "      <td>3</td>\n",
       "      <td>5</td>\n",
       "      <td>1530</td>\n",
       "      <td>2009</td>\n",
       "      <td>0</td>\n",
       "      <td>1530</td>\n",
       "      <td>1509</td>\n",
       "      <td>2014</td>\n",
       "      <td>Spring</td>\n",
       "      <td>0</td>\n",
       "    </tr>\n",
       "    <tr>\n",
       "      <th>21593</th>\n",
       "      <td>400000.0</td>\n",
       "      <td>4</td>\n",
       "      <td>2.50</td>\n",
       "      <td>2310</td>\n",
       "      <td>5813</td>\n",
       "      <td>2.0</td>\n",
       "      <td>0.0</td>\n",
       "      <td>0</td>\n",
       "      <td>3</td>\n",
       "      <td>5</td>\n",
       "      <td>2310</td>\n",
       "      <td>2014</td>\n",
       "      <td>0</td>\n",
       "      <td>1830</td>\n",
       "      <td>7200</td>\n",
       "      <td>2015</td>\n",
       "      <td>Winter</td>\n",
       "      <td>0</td>\n",
       "    </tr>\n",
       "    <tr>\n",
       "      <th>21594</th>\n",
       "      <td>402101.0</td>\n",
       "      <td>2</td>\n",
       "      <td>0.75</td>\n",
       "      <td>1020</td>\n",
       "      <td>1350</td>\n",
       "      <td>2.0</td>\n",
       "      <td>0.0</td>\n",
       "      <td>0</td>\n",
       "      <td>3</td>\n",
       "      <td>4</td>\n",
       "      <td>1020</td>\n",
       "      <td>2009</td>\n",
       "      <td>0</td>\n",
       "      <td>1020</td>\n",
       "      <td>2007</td>\n",
       "      <td>2014</td>\n",
       "      <td>Summer</td>\n",
       "      <td>0</td>\n",
       "    </tr>\n",
       "    <tr>\n",
       "      <th>21595</th>\n",
       "      <td>400000.0</td>\n",
       "      <td>3</td>\n",
       "      <td>2.50</td>\n",
       "      <td>1600</td>\n",
       "      <td>2388</td>\n",
       "      <td>2.0</td>\n",
       "      <td>0.0</td>\n",
       "      <td>0</td>\n",
       "      <td>3</td>\n",
       "      <td>5</td>\n",
       "      <td>1600</td>\n",
       "      <td>2004</td>\n",
       "      <td>0</td>\n",
       "      <td>1410</td>\n",
       "      <td>1287</td>\n",
       "      <td>2015</td>\n",
       "      <td>Winter</td>\n",
       "      <td>0</td>\n",
       "    </tr>\n",
       "    <tr>\n",
       "      <th>21596</th>\n",
       "      <td>325000.0</td>\n",
       "      <td>2</td>\n",
       "      <td>0.75</td>\n",
       "      <td>1020</td>\n",
       "      <td>1076</td>\n",
       "      <td>2.0</td>\n",
       "      <td>0.0</td>\n",
       "      <td>0</td>\n",
       "      <td>3</td>\n",
       "      <td>4</td>\n",
       "      <td>1020</td>\n",
       "      <td>2008</td>\n",
       "      <td>0</td>\n",
       "      <td>1020</td>\n",
       "      <td>1357</td>\n",
       "      <td>2014</td>\n",
       "      <td>Fall</td>\n",
       "      <td>0</td>\n",
       "    </tr>\n",
       "  </tbody>\n",
       "</table>\n",
       "<p>21597 rows × 18 columns</p>\n",
       "</div>"
      ],
      "text/plain": [
       "          price  bedrooms  bathrooms  sqft_living  sqft_lot  floors  \\\n",
       "0      221900.0         3       1.00         1180      5650     1.0   \n",
       "1      538000.0         3       2.25         2570      7242     2.0   \n",
       "2      180000.0         2       1.00          770     10000     1.0   \n",
       "3      604000.0         4       3.00         1960      5000     1.0   \n",
       "4      510000.0         3       2.00         1680      8080     1.0   \n",
       "...         ...       ...        ...          ...       ...     ...   \n",
       "21592  360000.0         3       2.50         1530      1131     3.0   \n",
       "21593  400000.0         4       2.50         2310      5813     2.0   \n",
       "21594  402101.0         2       0.75         1020      1350     2.0   \n",
       "21595  400000.0         3       2.50         1600      2388     2.0   \n",
       "21596  325000.0         2       0.75         1020      1076     2.0   \n",
       "\n",
       "       waterfront  viewed  condition  grade  sqft_above  yr_built  \\\n",
       "0             0.0       0          3      4        1180      1955   \n",
       "1             0.0       0          3      4        2170      1951   \n",
       "2             0.0       0          3      3         770      1933   \n",
       "3             0.0       0          5      4        1050      1965   \n",
       "4             0.0       0          3      5        1680      1987   \n",
       "...           ...     ...        ...    ...         ...       ...   \n",
       "21592         0.0       0          3      5        1530      2009   \n",
       "21593         0.0       0          3      5        2310      2014   \n",
       "21594         0.0       0          3      4        1020      2009   \n",
       "21595         0.0       0          3      5        1600      2004   \n",
       "21596         0.0       0          3      4        1020      2008   \n",
       "\n",
       "       renovated_in_2000s  sqft_living15  sqft_lot15  year_sold season_sold  \\\n",
       "0                       0           1340        5650       2014        Fall   \n",
       "1                       0           1690        7639       2014      Winter   \n",
       "2                       0           2720        8062       2015      Winter   \n",
       "3                       0           1360        5000       2014      Winter   \n",
       "4                       0           1800        7503       2015      Winter   \n",
       "...                   ...            ...         ...        ...         ...   \n",
       "21592                   0           1530        1509       2014      Spring   \n",
       "21593                   0           1830        7200       2015      Winter   \n",
       "21594                   0           1020        2007       2014      Summer   \n",
       "21595                   0           1410        1287       2015      Winter   \n",
       "21596                   0           1020        1357       2014        Fall   \n",
       "\n",
       "       basement  \n",
       "0             0  \n",
       "1             1  \n",
       "2             0  \n",
       "3             1  \n",
       "4             0  \n",
       "...         ...  \n",
       "21592         0  \n",
       "21593         0  \n",
       "21594         0  \n",
       "21595         0  \n",
       "21596         0  \n",
       "\n",
       "[21597 rows x 18 columns]"
      ]
     },
     "execution_count": 30,
     "metadata": {},
     "output_type": "execute_result"
    }
   ],
   "source": [
    "df_house"
   ]
  },
  {
   "cell_type": "markdown",
   "metadata": {},
   "source": [
    "### Multicollinearity"
   ]
  },
  {
   "cell_type": "code",
   "execution_count": 31,
   "metadata": {},
   "outputs": [],
   "source": [
    "df_features = df_house.drop(['price'], axis=1)"
   ]
  },
  {
   "cell_type": "code",
   "execution_count": 32,
   "metadata": {},
   "outputs": [],
   "source": [
    "fig_num = len(df_features.columns)"
   ]
  },
  {
   "cell_type": "code",
   "execution_count": 33,
   "metadata": {
    "scrolled": true
   },
   "outputs": [],
   "source": [
    "# # ***Is this even useful with such a large number of features when we can use actual corr numbers?***\n",
    "# pd.plotting.scatter_matrix(df_features,figsize  = [fig_num, fig_num]);\n",
    "# plt.show()"
   ]
  },
  {
   "cell_type": "code",
   "execution_count": 34,
   "metadata": {
    "scrolled": true
   },
   "outputs": [],
   "source": [
    "# sns.heatmap(df_features.corr(), center=0);"
   ]
  },
  {
   "cell_type": "code",
   "execution_count": 35,
   "metadata": {},
   "outputs": [
    {
     "data": {
      "text/html": [
       "<div>\n",
       "<style scoped>\n",
       "    .dataframe tbody tr th:only-of-type {\n",
       "        vertical-align: middle;\n",
       "    }\n",
       "\n",
       "    .dataframe tbody tr th {\n",
       "        vertical-align: top;\n",
       "    }\n",
       "\n",
       "    .dataframe thead th {\n",
       "        text-align: right;\n",
       "    }\n",
       "</style>\n",
       "<table border=\"1\" class=\"dataframe\">\n",
       "  <thead>\n",
       "    <tr style=\"text-align: right;\">\n",
       "      <th></th>\n",
       "      <th>bedrooms</th>\n",
       "      <th>bathrooms</th>\n",
       "      <th>sqft_living</th>\n",
       "      <th>sqft_lot</th>\n",
       "      <th>floors</th>\n",
       "      <th>waterfront</th>\n",
       "      <th>viewed</th>\n",
       "      <th>condition</th>\n",
       "      <th>grade</th>\n",
       "      <th>sqft_above</th>\n",
       "      <th>yr_built</th>\n",
       "      <th>renovated_in_2000s</th>\n",
       "      <th>sqft_living15</th>\n",
       "      <th>sqft_lot15</th>\n",
       "      <th>year_sold</th>\n",
       "      <th>basement</th>\n",
       "    </tr>\n",
       "  </thead>\n",
       "  <tbody>\n",
       "    <tr>\n",
       "      <th>bedrooms</th>\n",
       "      <td>True</td>\n",
       "      <td>False</td>\n",
       "      <td>False</td>\n",
       "      <td>False</td>\n",
       "      <td>False</td>\n",
       "      <td>False</td>\n",
       "      <td>False</td>\n",
       "      <td>False</td>\n",
       "      <td>False</td>\n",
       "      <td>False</td>\n",
       "      <td>False</td>\n",
       "      <td>False</td>\n",
       "      <td>False</td>\n",
       "      <td>False</td>\n",
       "      <td>False</td>\n",
       "      <td>False</td>\n",
       "    </tr>\n",
       "    <tr>\n",
       "      <th>bathrooms</th>\n",
       "      <td>False</td>\n",
       "      <td>True</td>\n",
       "      <td>True</td>\n",
       "      <td>False</td>\n",
       "      <td>False</td>\n",
       "      <td>False</td>\n",
       "      <td>False</td>\n",
       "      <td>False</td>\n",
       "      <td>False</td>\n",
       "      <td>False</td>\n",
       "      <td>False</td>\n",
       "      <td>False</td>\n",
       "      <td>False</td>\n",
       "      <td>False</td>\n",
       "      <td>False</td>\n",
       "      <td>False</td>\n",
       "    </tr>\n",
       "    <tr>\n",
       "      <th>sqft_living</th>\n",
       "      <td>False</td>\n",
       "      <td>True</td>\n",
       "      <td>True</td>\n",
       "      <td>False</td>\n",
       "      <td>False</td>\n",
       "      <td>False</td>\n",
       "      <td>False</td>\n",
       "      <td>False</td>\n",
       "      <td>True</td>\n",
       "      <td>True</td>\n",
       "      <td>False</td>\n",
       "      <td>False</td>\n",
       "      <td>True</td>\n",
       "      <td>False</td>\n",
       "      <td>False</td>\n",
       "      <td>False</td>\n",
       "    </tr>\n",
       "    <tr>\n",
       "      <th>sqft_lot</th>\n",
       "      <td>False</td>\n",
       "      <td>False</td>\n",
       "      <td>False</td>\n",
       "      <td>True</td>\n",
       "      <td>False</td>\n",
       "      <td>False</td>\n",
       "      <td>False</td>\n",
       "      <td>False</td>\n",
       "      <td>False</td>\n",
       "      <td>False</td>\n",
       "      <td>False</td>\n",
       "      <td>False</td>\n",
       "      <td>False</td>\n",
       "      <td>True</td>\n",
       "      <td>False</td>\n",
       "      <td>False</td>\n",
       "    </tr>\n",
       "    <tr>\n",
       "      <th>floors</th>\n",
       "      <td>False</td>\n",
       "      <td>False</td>\n",
       "      <td>False</td>\n",
       "      <td>False</td>\n",
       "      <td>True</td>\n",
       "      <td>False</td>\n",
       "      <td>False</td>\n",
       "      <td>False</td>\n",
       "      <td>False</td>\n",
       "      <td>False</td>\n",
       "      <td>False</td>\n",
       "      <td>False</td>\n",
       "      <td>False</td>\n",
       "      <td>False</td>\n",
       "      <td>False</td>\n",
       "      <td>False</td>\n",
       "    </tr>\n",
       "    <tr>\n",
       "      <th>waterfront</th>\n",
       "      <td>False</td>\n",
       "      <td>False</td>\n",
       "      <td>False</td>\n",
       "      <td>False</td>\n",
       "      <td>False</td>\n",
       "      <td>True</td>\n",
       "      <td>False</td>\n",
       "      <td>False</td>\n",
       "      <td>False</td>\n",
       "      <td>False</td>\n",
       "      <td>False</td>\n",
       "      <td>False</td>\n",
       "      <td>False</td>\n",
       "      <td>False</td>\n",
       "      <td>False</td>\n",
       "      <td>False</td>\n",
       "    </tr>\n",
       "    <tr>\n",
       "      <th>viewed</th>\n",
       "      <td>False</td>\n",
       "      <td>False</td>\n",
       "      <td>False</td>\n",
       "      <td>False</td>\n",
       "      <td>False</td>\n",
       "      <td>False</td>\n",
       "      <td>True</td>\n",
       "      <td>False</td>\n",
       "      <td>False</td>\n",
       "      <td>False</td>\n",
       "      <td>False</td>\n",
       "      <td>False</td>\n",
       "      <td>False</td>\n",
       "      <td>False</td>\n",
       "      <td>False</td>\n",
       "      <td>False</td>\n",
       "    </tr>\n",
       "    <tr>\n",
       "      <th>condition</th>\n",
       "      <td>False</td>\n",
       "      <td>False</td>\n",
       "      <td>False</td>\n",
       "      <td>False</td>\n",
       "      <td>False</td>\n",
       "      <td>False</td>\n",
       "      <td>False</td>\n",
       "      <td>True</td>\n",
       "      <td>False</td>\n",
       "      <td>False</td>\n",
       "      <td>False</td>\n",
       "      <td>False</td>\n",
       "      <td>False</td>\n",
       "      <td>False</td>\n",
       "      <td>False</td>\n",
       "      <td>False</td>\n",
       "    </tr>\n",
       "    <tr>\n",
       "      <th>grade</th>\n",
       "      <td>False</td>\n",
       "      <td>False</td>\n",
       "      <td>True</td>\n",
       "      <td>False</td>\n",
       "      <td>False</td>\n",
       "      <td>False</td>\n",
       "      <td>False</td>\n",
       "      <td>False</td>\n",
       "      <td>True</td>\n",
       "      <td>True</td>\n",
       "      <td>False</td>\n",
       "      <td>False</td>\n",
       "      <td>True</td>\n",
       "      <td>False</td>\n",
       "      <td>False</td>\n",
       "      <td>False</td>\n",
       "    </tr>\n",
       "    <tr>\n",
       "      <th>sqft_above</th>\n",
       "      <td>False</td>\n",
       "      <td>False</td>\n",
       "      <td>True</td>\n",
       "      <td>False</td>\n",
       "      <td>False</td>\n",
       "      <td>False</td>\n",
       "      <td>False</td>\n",
       "      <td>False</td>\n",
       "      <td>True</td>\n",
       "      <td>True</td>\n",
       "      <td>False</td>\n",
       "      <td>False</td>\n",
       "      <td>True</td>\n",
       "      <td>False</td>\n",
       "      <td>False</td>\n",
       "      <td>False</td>\n",
       "    </tr>\n",
       "    <tr>\n",
       "      <th>yr_built</th>\n",
       "      <td>False</td>\n",
       "      <td>False</td>\n",
       "      <td>False</td>\n",
       "      <td>False</td>\n",
       "      <td>False</td>\n",
       "      <td>False</td>\n",
       "      <td>False</td>\n",
       "      <td>False</td>\n",
       "      <td>False</td>\n",
       "      <td>False</td>\n",
       "      <td>True</td>\n",
       "      <td>False</td>\n",
       "      <td>False</td>\n",
       "      <td>False</td>\n",
       "      <td>False</td>\n",
       "      <td>False</td>\n",
       "    </tr>\n",
       "    <tr>\n",
       "      <th>renovated_in_2000s</th>\n",
       "      <td>False</td>\n",
       "      <td>False</td>\n",
       "      <td>False</td>\n",
       "      <td>False</td>\n",
       "      <td>False</td>\n",
       "      <td>False</td>\n",
       "      <td>False</td>\n",
       "      <td>False</td>\n",
       "      <td>False</td>\n",
       "      <td>False</td>\n",
       "      <td>False</td>\n",
       "      <td>True</td>\n",
       "      <td>False</td>\n",
       "      <td>False</td>\n",
       "      <td>False</td>\n",
       "      <td>False</td>\n",
       "    </tr>\n",
       "    <tr>\n",
       "      <th>sqft_living15</th>\n",
       "      <td>False</td>\n",
       "      <td>False</td>\n",
       "      <td>True</td>\n",
       "      <td>False</td>\n",
       "      <td>False</td>\n",
       "      <td>False</td>\n",
       "      <td>False</td>\n",
       "      <td>False</td>\n",
       "      <td>True</td>\n",
       "      <td>True</td>\n",
       "      <td>False</td>\n",
       "      <td>False</td>\n",
       "      <td>True</td>\n",
       "      <td>False</td>\n",
       "      <td>False</td>\n",
       "      <td>False</td>\n",
       "    </tr>\n",
       "    <tr>\n",
       "      <th>sqft_lot15</th>\n",
       "      <td>False</td>\n",
       "      <td>False</td>\n",
       "      <td>False</td>\n",
       "      <td>True</td>\n",
       "      <td>False</td>\n",
       "      <td>False</td>\n",
       "      <td>False</td>\n",
       "      <td>False</td>\n",
       "      <td>False</td>\n",
       "      <td>False</td>\n",
       "      <td>False</td>\n",
       "      <td>False</td>\n",
       "      <td>False</td>\n",
       "      <td>True</td>\n",
       "      <td>False</td>\n",
       "      <td>False</td>\n",
       "    </tr>\n",
       "    <tr>\n",
       "      <th>year_sold</th>\n",
       "      <td>False</td>\n",
       "      <td>False</td>\n",
       "      <td>False</td>\n",
       "      <td>False</td>\n",
       "      <td>False</td>\n",
       "      <td>False</td>\n",
       "      <td>False</td>\n",
       "      <td>False</td>\n",
       "      <td>False</td>\n",
       "      <td>False</td>\n",
       "      <td>False</td>\n",
       "      <td>False</td>\n",
       "      <td>False</td>\n",
       "      <td>False</td>\n",
       "      <td>True</td>\n",
       "      <td>False</td>\n",
       "    </tr>\n",
       "    <tr>\n",
       "      <th>basement</th>\n",
       "      <td>False</td>\n",
       "      <td>False</td>\n",
       "      <td>False</td>\n",
       "      <td>False</td>\n",
       "      <td>False</td>\n",
       "      <td>False</td>\n",
       "      <td>False</td>\n",
       "      <td>False</td>\n",
       "      <td>False</td>\n",
       "      <td>False</td>\n",
       "      <td>False</td>\n",
       "      <td>False</td>\n",
       "      <td>False</td>\n",
       "      <td>False</td>\n",
       "      <td>False</td>\n",
       "      <td>True</td>\n",
       "    </tr>\n",
       "  </tbody>\n",
       "</table>\n",
       "</div>"
      ],
      "text/plain": [
       "                    bedrooms  bathrooms  sqft_living  sqft_lot  floors  \\\n",
       "bedrooms                True      False        False     False   False   \n",
       "bathrooms              False       True         True     False   False   \n",
       "sqft_living            False       True         True     False   False   \n",
       "sqft_lot               False      False        False      True   False   \n",
       "floors                 False      False        False     False    True   \n",
       "waterfront             False      False        False     False   False   \n",
       "viewed                 False      False        False     False   False   \n",
       "condition              False      False        False     False   False   \n",
       "grade                  False      False         True     False   False   \n",
       "sqft_above             False      False         True     False   False   \n",
       "yr_built               False      False        False     False   False   \n",
       "renovated_in_2000s     False      False        False     False   False   \n",
       "sqft_living15          False      False         True     False   False   \n",
       "sqft_lot15             False      False        False      True   False   \n",
       "year_sold              False      False        False     False   False   \n",
       "basement               False      False        False     False   False   \n",
       "\n",
       "                    waterfront  viewed  condition  grade  sqft_above  \\\n",
       "bedrooms                 False   False      False  False       False   \n",
       "bathrooms                False   False      False  False       False   \n",
       "sqft_living              False   False      False   True        True   \n",
       "sqft_lot                 False   False      False  False       False   \n",
       "floors                   False   False      False  False       False   \n",
       "waterfront                True   False      False  False       False   \n",
       "viewed                   False    True      False  False       False   \n",
       "condition                False   False       True  False       False   \n",
       "grade                    False   False      False   True        True   \n",
       "sqft_above               False   False      False   True        True   \n",
       "yr_built                 False   False      False  False       False   \n",
       "renovated_in_2000s       False   False      False  False       False   \n",
       "sqft_living15            False   False      False   True        True   \n",
       "sqft_lot15               False   False      False  False       False   \n",
       "year_sold                False   False      False  False       False   \n",
       "basement                 False   False      False  False       False   \n",
       "\n",
       "                    yr_built  renovated_in_2000s  sqft_living15  sqft_lot15  \\\n",
       "bedrooms               False               False          False       False   \n",
       "bathrooms              False               False          False       False   \n",
       "sqft_living            False               False           True       False   \n",
       "sqft_lot               False               False          False        True   \n",
       "floors                 False               False          False       False   \n",
       "waterfront             False               False          False       False   \n",
       "viewed                 False               False          False       False   \n",
       "condition              False               False          False       False   \n",
       "grade                  False               False           True       False   \n",
       "sqft_above             False               False           True       False   \n",
       "yr_built                True               False          False       False   \n",
       "renovated_in_2000s     False                True          False       False   \n",
       "sqft_living15          False               False           True       False   \n",
       "sqft_lot15             False               False          False        True   \n",
       "year_sold              False               False          False       False   \n",
       "basement               False               False          False       False   \n",
       "\n",
       "                    year_sold  basement  \n",
       "bedrooms                False     False  \n",
       "bathrooms               False     False  \n",
       "sqft_living             False     False  \n",
       "sqft_lot                False     False  \n",
       "floors                  False     False  \n",
       "waterfront              False     False  \n",
       "viewed                  False     False  \n",
       "condition               False     False  \n",
       "grade                   False     False  \n",
       "sqft_above              False     False  \n",
       "yr_built                False     False  \n",
       "renovated_in_2000s      False     False  \n",
       "sqft_living15           False     False  \n",
       "sqft_lot15              False     False  \n",
       "year_sold                True     False  \n",
       "basement                False      True  "
      ]
     },
     "execution_count": 35,
     "metadata": {},
     "output_type": "execute_result"
    }
   ],
   "source": [
    "# features correlated above .7 considered highly correlated\n",
    "abs(df_features.corr()) > 0.7"
   ]
  },
  {
   "cell_type": "code",
   "execution_count": 36,
   "metadata": {},
   "outputs": [],
   "source": [
    "# save absolute value of correlation matrix as a data frame\n",
    "# converts all values to absolute value\n",
    "# stacks the row:column pairs into a multindex\n",
    "# reset the index to set the multindex to seperate columns\n",
    "# sort values. 0 is the column automatically generated by the stacking\n",
    "\n",
    "df=df_features.corr().abs().stack().reset_index().sort_values(0, ascending=False)\n",
    "\n",
    "# zip the variable name columns (Which were only named level_0 and level_1 by default) in a new column named \"pairs\"\n",
    "df['pairs'] = list(zip(df.level_0, df.level_1))\n",
    "\n",
    "# set index to pairs\n",
    "df.set_index(['pairs'], inplace = True)\n",
    "\n",
    "#drop level columns\n",
    "df.drop(columns=['level_1', 'level_0'], inplace = True)\n",
    "\n",
    "# rename correlation column as cc rather than 0\n",
    "df.columns = ['cc']\n",
    "\n",
    "# drop duplicates. This could be dangerous if you have variables perfectly correlated with variables other than themselves.\n",
    "df.drop_duplicates(inplace=True)"
   ]
  },
  {
   "cell_type": "code",
   "execution_count": 37,
   "metadata": {},
   "outputs": [
    {
     "data": {
      "text/html": [
       "<div>\n",
       "<style scoped>\n",
       "    .dataframe tbody tr th:only-of-type {\n",
       "        vertical-align: middle;\n",
       "    }\n",
       "\n",
       "    .dataframe tbody tr th {\n",
       "        vertical-align: top;\n",
       "    }\n",
       "\n",
       "    .dataframe thead th {\n",
       "        text-align: right;\n",
       "    }\n",
       "</style>\n",
       "<table border=\"1\" class=\"dataframe\">\n",
       "  <thead>\n",
       "    <tr style=\"text-align: right;\">\n",
       "      <th></th>\n",
       "      <th>cc</th>\n",
       "    </tr>\n",
       "    <tr>\n",
       "      <th>pairs</th>\n",
       "      <th></th>\n",
       "    </tr>\n",
       "  </thead>\n",
       "  <tbody>\n",
       "    <tr>\n",
       "      <th>(sqft_living, sqft_above)</th>\n",
       "      <td>0.876448</td>\n",
       "    </tr>\n",
       "    <tr>\n",
       "      <th>(grade, sqft_living)</th>\n",
       "      <td>0.762779</td>\n",
       "    </tr>\n",
       "    <tr>\n",
       "      <th>(sqft_living, sqft_living15)</th>\n",
       "      <td>0.756402</td>\n",
       "    </tr>\n",
       "    <tr>\n",
       "      <th>(sqft_above, grade)</th>\n",
       "      <td>0.756073</td>\n",
       "    </tr>\n",
       "    <tr>\n",
       "      <th>(bathrooms, sqft_living)</th>\n",
       "      <td>0.755758</td>\n",
       "    </tr>\n",
       "    <tr>\n",
       "      <th>(sqft_living15, sqft_above)</th>\n",
       "      <td>0.731767</td>\n",
       "    </tr>\n",
       "    <tr>\n",
       "      <th>(sqft_lot, sqft_lot15)</th>\n",
       "      <td>0.718204</td>\n",
       "    </tr>\n",
       "    <tr>\n",
       "      <th>(grade, sqft_living15)</th>\n",
       "      <td>0.713867</td>\n",
       "    </tr>\n",
       "  </tbody>\n",
       "</table>\n",
       "</div>"
      ],
      "text/plain": [
       "                                    cc\n",
       "pairs                                 \n",
       "(sqft_living, sqft_above)     0.876448\n",
       "(grade, sqft_living)          0.762779\n",
       "(sqft_living, sqft_living15)  0.756402\n",
       "(sqft_above, grade)           0.756073\n",
       "(bathrooms, sqft_living)      0.755758\n",
       "(sqft_living15, sqft_above)   0.731767\n",
       "(sqft_lot, sqft_lot15)        0.718204\n",
       "(grade, sqft_living15)        0.713867"
      ]
     },
     "execution_count": 37,
     "metadata": {},
     "output_type": "execute_result"
    }
   ],
   "source": [
    "df[(df.cc>.7) & (df.cc <1)]"
   ]
  },
  {
   "cell_type": "markdown",
   "metadata": {},
   "source": [
    "- Remove: sqft_above,sqft_living15, sqft_lot15\n",
    "- Keeping: grade, sqft_living, bathrooms \n",
    " - intuitively # of bathrooms, grade, and sqft_living should be important for house pricing so let's keep these for now but create a new feature binning sqft_living\n"
   ]
  },
  {
   "cell_type": "code",
   "execution_count": 38,
   "metadata": {},
   "outputs": [],
   "source": [
    "# Let's go ahead and drop them from our features\n",
    "df_features_clean = df_features.drop(['sqft_above', 'sqft_living15', 'sqft_lot15'], axis=1)\n",
    "#And our original dataframe\n",
    "df_house = df_house.drop(['sqft_above', 'sqft_living15', 'sqft_lot15'], axis=1)\n",
    "# We're still left with a few pairs with high correlation:\n",
    "    # grade and sqft_living\n",
    "    # bathrooms and sqft_living\n"
   ]
  },
  {
   "cell_type": "code",
   "execution_count": 39,
   "metadata": {},
   "outputs": [],
   "source": [
    "# # bin lot sizes and group by lot size - first define function\n",
    "# def lot_size(sqft):\n",
    "#     if sqft < 1000:\n",
    "#         home_size = '< 1000 sqft'\n",
    "#     elif 1000 <= sqft < 2000:\n",
    "#         home_size = '1000 to 2000 sqft'\n",
    "#     elif 2000 <= sqft < 3000:\n",
    "#         home_size = '2000 to 3000 sqft'\n",
    "#     elif 3000 <= sqft < 4000:\n",
    "#         home_size = '3000 to 4000 sqft'\n",
    "#     else:\n",
    "#         home_size = '> 4000 sqft'\n",
    "#     return home_size\n",
    "        \n",
    "# # apply function to house size column in new dataframe\n",
    "# df_features_clean['house_size'] = df_features_clean['sqft_living'].apply(house_size)"
   ]
  },
  {
   "cell_type": "code",
   "execution_count": 40,
   "metadata": {},
   "outputs": [],
   "source": [
    "# # create new column with bathrooms per square foot\n",
    "# df_house['bath_per_sqft'] = df_house.apply(lambda row: row['prx'] / row['sqft_living'], axis=1)"
   ]
  },
  {
   "cell_type": "code",
   "execution_count": 41,
   "metadata": {},
   "outputs": [],
   "source": [
    "# # bin house sizes and group by house size - first define function\n",
    "# def house_size(sqft):\n",
    "#     if sqft < 1000:\n",
    "#         home_size = '< 1000 sqft'\n",
    "#     elif 1000 <= sqft < 2000:\n",
    "#         home_size = '1000 to 2000 sqft'\n",
    "#     elif 2000 <= sqft < 3000:\n",
    "#         home_size = '2000 to 3000 sqft'\n",
    "#     elif 3000 <= sqft < 4000:\n",
    "#         home_size = '3000 to 4000 sqft'\n",
    "#     else:\n",
    "#         home_size = '> 4000 sqft'\n",
    "#     return home_size\n",
    "        \n",
    "# # apply function to house size column in new dataframe\n",
    "# df_features_clean['house_size'] = df_features_clean['sqft_living'].apply(house_size)"
   ]
  },
  {
   "cell_type": "code",
   "execution_count": 42,
   "metadata": {},
   "outputs": [],
   "source": [
    "# df_features_clean = df_features_clean.drop(['sqft_living'], axis=1)"
   ]
  },
  {
   "cell_type": "code",
   "execution_count": 43,
   "metadata": {},
   "outputs": [],
   "source": [
    "# # save absolute value of correlation matrix as a data frame\n",
    "# # converts all values to absolute value\n",
    "# # stacks the row:column pairs into a multindex\n",
    "# # reset the index to set the multindex to seperate columns\n",
    "# # sort values. 0 is the column automatically generated by the stacking\n",
    "\n",
    "# df=df_features_clean.corr().abs().stack().reset_index().sort_values(0, ascending=False)\n",
    "\n",
    "# # zip the variable name columns (Which were only named level_0 and level_1 by default) in a new column named \"pairs\"\n",
    "# df['pairs'] = list(zip(df.level_0, df.level_1))\n",
    "\n",
    "# # set index to pairs\n",
    "# df.set_index(['pairs'], inplace = True)\n",
    "\n",
    "# #drop level columns\n",
    "# df.drop(columns=['level_1', 'level_0'], inplace = True)\n",
    "\n",
    "# # rename correlation column as cc rather than 0\n",
    "# df.columns = ['cc']\n",
    "\n",
    "# # drop duplicates. This could be dangerous if you have variables perfectly correlated with variables other than themselves.\n",
    "# df.drop_duplicates(inplace=True)"
   ]
  },
  {
   "cell_type": "code",
   "execution_count": 44,
   "metadata": {},
   "outputs": [],
   "source": [
    "# df[(df.cc>.7) & (df.cc <1)]"
   ]
  },
  {
   "cell_type": "code",
   "execution_count": 45,
   "metadata": {},
   "outputs": [],
   "source": [
    "# # initialize figure and axis\n",
    "# fig, ax = plt.subplots(1, 1, figsize=(15, 10))\n",
    "\n",
    "# # define color palette\n",
    "# my_pal = {house_size: \"g\" if house_size == '2000 to 3000 sqft' or house_size == '3000 to 4000 sqft' or house_size == '> 4000 sqft' \n",
    "#                           else \"darkgrey\" for house_size in df_house.house_size.unique()} \n",
    "\n",
    "# # look at price per sqft vs. house size\n",
    "# sns.boxplot(x='house_size', y='bath_per_sqft', data=df_house, \n",
    "#             order=['< 1000 sqft', '1000 to 2000 sqft', '2000 to 3000 sqft', '3000 to 4000 sqft', '> 4000 sqft'],\n",
    "#             palette=my_pal)\n",
    "\n",
    "# # format x ticks                                                 \n",
    "# plt.xticks(rotation='45')\n",
    "\n",
    "# # format y tickers\n",
    "# fmt = '${x:,.0f}' # format to feed into mtick.StrMethodFormatter, include $ sign\n",
    "# tick = mtick.StrMethodFormatter(fmt) # set tick style\n",
    "# ax.yaxis.set_major_formatter(tick)  # apply tick style to x axis\n",
    "\n",
    "# # set labels and title\n",
    "# plt.title(\"House Size vs. Bath per Sqaure Foot\", pad=20)\n",
    "# plt.ylabel(\"Bath per Sqft (2019 USD)\")\n",
    "# plt.xlabel(\"House Size\")"
   ]
  },
  {
   "cell_type": "markdown",
   "metadata": {},
   "source": [
    "### Outliers"
   ]
  },
  {
   "cell_type": "code",
   "execution_count": 46,
   "metadata": {
    "scrolled": true
   },
   "outputs": [
    {
     "name": "stdout",
     "output_type": "stream",
     "text": [
      "33\n",
      "1\n"
     ]
    }
   ],
   "source": [
    "print(max(df_house['bedrooms']))\n",
    "print(min(df_house['bedrooms']))"
   ]
  },
  {
   "cell_type": "code",
   "execution_count": 47,
   "metadata": {},
   "outputs": [
    {
     "name": "stdout",
     "output_type": "stream",
     "text": [
      "8.0\n",
      "0.5\n"
     ]
    }
   ],
   "source": [
    "print(max(df_house['bathrooms']))\n",
    "print(min(df_house['bathrooms']))"
   ]
  },
  {
   "cell_type": "code",
   "execution_count": 48,
   "metadata": {
    "scrolled": true
   },
   "outputs": [
    {
     "name": "stdout",
     "output_type": "stream",
     "text": [
      "3.5\n",
      "1.0\n"
     ]
    }
   ],
   "source": [
    "print(max(df_house['floors']))\n",
    "print(min(df_house['floors']))"
   ]
  },
  {
   "cell_type": "code",
   "execution_count": 49,
   "metadata": {},
   "outputs": [],
   "source": [
    "quantity_features = ['bedrooms', 'bathrooms', 'floors']"
   ]
  },
  {
   "cell_type": "code",
   "execution_count": 50,
   "metadata": {},
   "outputs": [],
   "source": [
    "# remove all rows which contain value more than three standard deviations away from mean\n",
    "for var in quantity_features:\n",
    "    df_house = df_house[np.abs(df_house[var]-df_house[var].mean()) <= (3*df_house[var].std())]"
   ]
  },
  {
   "cell_type": "code",
   "execution_count": 51,
   "metadata": {
    "scrolled": true
   },
   "outputs": [
    {
     "name": "stdout",
     "output_type": "stream",
     "text": [
      "6\n",
      "1\n"
     ]
    }
   ],
   "source": [
    "print(max(df_house['bedrooms']))\n",
    "print(min(df_house['bedrooms']))"
   ]
  },
  {
   "cell_type": "code",
   "execution_count": 52,
   "metadata": {},
   "outputs": [
    {
     "name": "stdout",
     "output_type": "stream",
     "text": [
      "4.25\n",
      "0.5\n"
     ]
    }
   ],
   "source": [
    "print(max(df_house['bathrooms']))\n",
    "print(min(df_house['bathrooms']))"
   ]
  },
  {
   "cell_type": "code",
   "execution_count": 53,
   "metadata": {
    "scrolled": true
   },
   "outputs": [
    {
     "name": "stdout",
     "output_type": "stream",
     "text": [
      "3.0\n",
      "1.0\n"
     ]
    }
   ],
   "source": [
    "print(max(df_house['floors']))\n",
    "print(min(df_house['floors']))"
   ]
  },
  {
   "cell_type": "markdown",
   "metadata": {},
   "source": [
    "### Continuous and Categorical - Feature Engineering cont'"
   ]
  },
  {
   "cell_type": "code",
   "execution_count": 54,
   "metadata": {},
   "outputs": [
    {
     "data": {
      "text/plain": [
       "Index(['bedrooms', 'bathrooms', 'sqft_living', 'sqft_lot', 'floors',\n",
       "       'waterfront', 'viewed', 'condition', 'grade', 'yr_built',\n",
       "       'renovated_in_2000s', 'year_sold', 'season_sold', 'basement'],\n",
       "      dtype='object')"
      ]
     },
     "execution_count": 54,
     "metadata": {},
     "output_type": "execute_result"
    }
   ],
   "source": [
    "df_features_clean.columns"
   ]
  },
  {
   "cell_type": "code",
   "execution_count": 55,
   "metadata": {},
   "outputs": [],
   "source": [
    "continuous = ['sqft_living']"
   ]
  },
  {
   "cell_type": "code",
   "execution_count": 56,
   "metadata": {},
   "outputs": [
    {
     "data": {
      "image/png": "[encoded data removed]",
      "text/plain": [
       "<Figure size 864x576 with 1 Axes>"
      ]
     },
     "metadata": {
      "needs_background": "light"
     },
     "output_type": "display_data"
    }
   ],
   "source": [
    "# price vs continuous variables\n",
    "for variable in continuous:\n",
    "    ax, figure = plt.subplots(1,1,figsize=(12,8))\n",
    "    plt.ylim(0,2000000)\n",
    "    sns.regplot(x=variable, y='price', data=df_house)\n",
    "    plt.title(\"{} vs. Sale Price\".format(variable))\n"
   ]
  },
  {
   "cell_type": "code",
   "execution_count": 57,
   "metadata": {},
   "outputs": [],
   "source": [
    "# assign categorical variables to a list\n",
    "categorical = ['bedrooms', 'bathrooms', 'floors', 'waterfront', 'viewed', 'condition', 'grade', \n",
    "                         'yr_built', 'renovated_in_2000s', 'year_sold','season_sold',\n",
    "                         'basement', 'sqft_lot']"
   ]
  },
  {
   "cell_type": "code",
   "execution_count": 58,
   "metadata": {},
   "outputs": [
    {
     "data": {
      "text/plain": [
       "True"
      ]
     },
     "execution_count": 58,
     "metadata": {},
     "output_type": "execute_result"
    }
   ],
   "source": [
    "#Check that we included all features:\n",
    "len(categorical) + len(continuous) == len(df_features_clean.columns) "
   ]
  },
  {
   "cell_type": "code",
   "execution_count": 59,
   "metadata": {},
   "outputs": [],
   "source": [
    "# # let's take a look at the scatter plots to show how these behave more like discrete variables\n",
    "\n",
    "# for column in categorical:\n",
    "#     df_house.plot.scatter(x=column, y='price')\n",
    "#     plt.title(\"{} vs. Sales Price\".format(column))\n",
    "#     plt.show()"
   ]
  },
  {
   "cell_type": "code",
   "execution_count": 60,
   "metadata": {},
   "outputs": [],
   "source": [
    "# # price vs categorical variables\n",
    "# for variable in categorical:\n",
    "#     ax, figure = plt.subplots(1,1,figsize=(12,12))\n",
    "#     plt.ylim(0,2000000)\n",
    "#     sns.boxplot(x=variable, y='price', data=df_house)\n",
    "#     plt.title(\"{} vs. Sale Price\".format(variable))\n"
   ]
  },
  {
   "cell_type": "markdown",
   "metadata": {},
   "source": [
    "- yr_built is hard to interpret\n",
    "- year_sold difference in price visually looks negligible\n",
    "- season_sold Spring/Summer do have slightly higher prices than Fall/Winter"
   ]
  },
  {
   "cell_type": "markdown",
   "metadata": {},
   "source": [
    "#### New Features - binned categoricals"
   ]
  },
  {
   "cell_type": "code",
   "execution_count": 61,
   "metadata": {},
   "outputs": [
    {
     "data": {
      "image/png": "[encoded data removed]",
      "text/plain": [
       "<Figure size 432x288 with 1 Axes>"
      ]
     },
     "metadata": {
      "needs_background": "light"
     },
     "output_type": "display_data"
    },
    {
     "data": {
      "image/png": "[encoded data removed]",
      "text/plain": [
       "<Figure size 432x288 with 1 Axes>"
      ]
     },
     "metadata": {
      "needs_background": "light"
     },
     "output_type": "display_data"
    },
    {
     "data": {
      "image/png": "[encoded data removed]",
      "text/plain": [
       "<Figure size 432x288 with 1 Axes>"
      ]
     },
     "metadata": {
      "needs_background": "light"
     },
     "output_type": "display_data"
    },
    {
     "data": {
      "image/png": "[encoded data removed]",
      "text/plain": [
       "<Figure size 432x288 with 1 Axes>"
      ]
     },
     "metadata": {
      "needs_background": "light"
     },
     "output_type": "display_data"
    },
    {
     "data": {
      "image/png": "[encoded data removed]",
      "text/plain": [
       "<Figure size 432x288 with 1 Axes>"
      ]
     },
     "metadata": {
      "needs_background": "light"
     },
     "output_type": "display_data"
    },
    {
     "data": {
      "image/png": "[encoded data removed]",
      "text/plain": [
       "<Figure size 432x288 with 1 Axes>"
      ]
     },
     "metadata": {
      "needs_background": "light"
     },
     "output_type": "display_data"
    },
    {
     "data": {
      "image/png": "[encoded data removed]",
      "text/plain": [
       "<Figure size 432x288 with 1 Axes>"
      ]
     },
     "metadata": {
      "needs_background": "light"
     },
     "output_type": "display_data"
    }
   ],
   "source": [
    "# Let's look at the histograms for our categorical variables to see if we want to bin them\n",
    "# I've taken out variables which are already boolean or categorized like Season\n",
    "categorical_bin = ['bedrooms', 'bathrooms', 'floors', 'condition', 'grade', 'yr_built', 'sqft_lot']\n",
    "for column in categorical_bin:\n",
    "    plt.hist(df_house[column])\n",
    "    plt.xlabel(column)\n",
    "    plt.title(\"{} Distribution\".format(column))\n",
    "    plt.show()"
   ]
  },
  {
   "cell_type": "code",
   "execution_count": 62,
   "metadata": {
    "scrolled": true
   },
   "outputs": [
    {
     "name": "stdout",
     "output_type": "stream",
     "text": [
      "count    21357.000000\n",
      "mean         3.348083\n",
      "std          0.865467\n",
      "min          1.000000\n",
      "25%          3.000000\n",
      "50%          3.000000\n",
      "75%          4.000000\n",
      "max          6.000000\n",
      "Name: bedrooms, dtype: float64\n",
      "count    21357.000000\n",
      "mean         2.089139\n",
      "std          0.722480\n",
      "min          0.500000\n",
      "25%          1.500000\n",
      "50%          2.250000\n",
      "75%          2.500000\n",
      "max          4.250000\n",
      "Name: bathrooms, dtype: float64\n",
      "count    21357.000000\n",
      "mean         1.488926\n",
      "std          0.537816\n",
      "min          1.000000\n",
      "25%          1.000000\n",
      "50%          1.500000\n",
      "75%          2.000000\n",
      "max          3.000000\n",
      "Name: floors, dtype: float64\n",
      "count    21357.000000\n",
      "mean         3.411434\n",
      "std          0.651325\n",
      "min          1.000000\n",
      "25%          3.000000\n",
      "50%          3.000000\n",
      "75%          4.000000\n",
      "max          5.000000\n",
      "Name: condition, dtype: float64\n",
      "count    21357.000000\n",
      "mean         4.635155\n",
      "std          1.144854\n",
      "min          0.000000\n",
      "25%          4.000000\n",
      "50%          4.000000\n",
      "75%          5.000000\n",
      "max         10.000000\n",
      "Name: grade, dtype: float64\n",
      "count    21357.000000\n",
      "mean      1970.874233\n",
      "std         29.343362\n",
      "min       1900.000000\n",
      "25%       1951.000000\n",
      "50%       1975.000000\n",
      "75%       1996.000000\n",
      "max       2015.000000\n",
      "Name: yr_built, dtype: float64\n",
      "count    2.135700e+04\n",
      "mean     1.490973e+04\n",
      "std      4.082896e+04\n",
      "min      5.200000e+02\n",
      "25%      5.034000e+03\n",
      "50%      7.590000e+03\n",
      "75%      1.058400e+04\n",
      "max      1.651359e+06\n",
      "Name: sqft_lot, dtype: float64\n"
     ]
    }
   ],
   "source": [
    "# and we will also take a look at their summary statistics\n",
    "categorical_bin = ['bedrooms', 'bathrooms', 'floors', 'condition', 'grade', 'yr_built', 'sqft_lot']\n",
    "for column in categorical_bin:\n",
    "    print(df_house[column].describe())"
   ]
  },
  {
   "cell_type": "code",
   "execution_count": 63,
   "metadata": {},
   "outputs": [
    {
     "data": {
      "text/plain": [
       "count      21357.000000\n",
       "mean       14909.726507\n",
       "std        40828.962049\n",
       "min          520.000000\n",
       "25%         5034.000000\n",
       "50%         7590.000000\n",
       "75%        10584.000000\n",
       "max      1651359.000000\n",
       "Name: sqft_lot, dtype: object"
      ]
     },
     "execution_count": 63,
     "metadata": {},
     "output_type": "execute_result"
    }
   ],
   "source": [
    "df_house['sqft_lot'].describe().apply(lambda x: format(x, 'f'))"
   ]
  },
  {
   "cell_type": "code",
   "execution_count": 64,
   "metadata": {},
   "outputs": [],
   "source": [
    "# based on some intuition and the quantile distributions, we will define our bin ranges.\n",
    "bedrooms_bins = [0, 2, 3, 4, 33]\n",
    "bathrooms_bins = [0, 1, 2, 3, 8] \n",
    "floors_bins = [0,1,2,4]# when plotted with price 2 floors looks like a higher price group\n",
    "condition_bins = [0,2,3,5] # when plotted with price condition 2 and under is a lower price group than 2+\n",
    "grade_bins = [0,4,5,7,10]\n",
    "yr_built_bins = [1900, 1950, 1975, 2000, 2015] \n",
    "sqft_lot_bins = [0,2500,5000,7500,10000,10000000]\n",
    "#zipcode_bins = []"
   ]
  },
  {
   "cell_type": "code",
   "execution_count": 65,
   "metadata": {},
   "outputs": [],
   "source": [
    "# now lets convert these columns to binned categories\n",
    "# note that when binning these, the default setting is that the values on the right are included in the bin\n",
    "df_house['bedrooms'] = pd.cut(df_house['bedrooms'], bedrooms_bins)\n",
    "df_house['bathrooms'] = pd.cut(df_house['bathrooms'], bathrooms_bins)\n",
    "df_house['floors'] = pd.cut(df_house['floors'], floors_bins)\n",
    "df_house['condition'] = pd.cut(df_house['condition'], condition_bins)\n",
    "df_house['grade'] = pd.cut(df_house['grade'], grade_bins)\n",
    "df_house['yr_built'] = pd.cut(df_house['yr_built'], yr_built_bins)\n",
    "df_house['sqft_lot'] = pd.cut(df_house['sqft_lot'], sqft_lot_bins)\n",
    "#df_house['zipcode'] = pd.cut(df_house['zipcode'], zipcode_bins)"
   ]
  },
  {
   "cell_type": "code",
   "execution_count": 66,
   "metadata": {},
   "outputs": [
    {
     "name": "stdout",
     "output_type": "stream",
     "text": [
      "(2, 3]     0.459568\n",
      "(3, 4]     0.319567\n",
      "(0, 2]     0.138315\n",
      "(4, 33]    0.082549\n",
      "Name: bedrooms, dtype: float64\n",
      "(2, 3]    0.437093\n",
      "(1, 2]    0.300979\n",
      "(0, 1]    0.183780\n",
      "(3, 8]    0.078148\n",
      "Name: bathrooms, dtype: float64\n",
      "(0, 1]    0.498291\n",
      "(1, 2]    0.466498\n",
      "(2, 4]    0.035211\n",
      "Name: floors, dtype: float64\n",
      "(2, 3]    0.647563\n",
      "(3, 5]    0.343119\n",
      "(0, 2]    0.009318\n",
      "Name: condition, dtype: float64\n",
      "(0, 4]     0.526456\n",
      "(4, 5]     0.282216\n",
      "(5, 7]     0.172364\n",
      "(7, 10]    0.018964\n",
      "Name: grade, dtype: float64\n",
      "(1975, 2000]    0.284814\n",
      "(1950, 1975]    0.268500\n",
      "(1900, 1950]    0.237847\n",
      "(2000, 2015]    0.208839\n",
      "Name: yr_built, dtype: float64\n",
      "(10000, 10000000]    0.282062\n",
      "(5000, 7500]         0.244885\n",
      "(7500, 10000]        0.226905\n",
      "(2500, 5000]         0.176570\n",
      "(0, 2500]            0.069579\n",
      "Name: sqft_lot, dtype: float64\n"
     ]
    }
   ],
   "source": [
    "# and we will also take a look at the distribution across bins \n",
    "for column in categorical_bin:\n",
    "    print(df_house[column].value_counts(normalize=True))"
   ]
  },
  {
   "cell_type": "markdown",
   "metadata": {},
   "source": [
    "### Log Transformations"
   ]
  },
  {
   "cell_type": "code",
   "execution_count": 67,
   "metadata": {},
   "outputs": [
    {
     "data": {
      "image/png": "[encoded data removed]",
      "text/plain": [
       "<Figure size 1152x288 with 1 Axes>"
      ]
     },
     "metadata": {
      "needs_background": "light"
     },
     "output_type": "display_data"
    }
   ],
   "source": [
    "non_normal = ['price']\n",
    "for feat in non_normal:\n",
    "    df_house[feat] = df_house[feat].map(lambda x: np.log(x))\n",
    "plt.figure(figsize = (16, 4))\n",
    "sns.distplot(a = df_house[\"price\"], color = \"#FF7F50\")\n",
    "plt.title(\"Distribution of Price\", fontsize=16);"
   ]
  },
  {
   "cell_type": "code",
   "execution_count": 68,
   "metadata": {
    "scrolled": true
   },
   "outputs": [
    {
     "data": {
      "image/png": "[encoded data removed]",
      "text/plain": [
       "<Figure size 1152x288 with 1 Axes>"
      ]
     },
     "metadata": {
      "needs_background": "light"
     },
     "output_type": "display_data"
    }
   ],
   "source": [
    "non_normal_2 = ['sqft_living']\n",
    "for feat in non_normal_2:\n",
    "    df_house[feat] = df_house[feat].map(lambda x: np.log(x))\n",
    "plt.figure(figsize = (16, 4))\n",
    "sns.distplot(a = df_house[\"sqft_living\"], color = \"#FF7F50\")\n",
    "plt.title(\"Distribution of sqft_living\", fontsize=16);"
   ]
  },
  {
   "cell_type": "markdown",
   "metadata": {},
   "source": [
    "### split data test and train"
   ]
  },
  {
   "cell_type": "code",
   "execution_count": 69,
   "metadata": {},
   "outputs": [],
   "source": [
    "# Divide dataset into X predictors and y target\n",
    "x = df_house.drop(['price'], axis=1)\n",
    "y = df_house[['price']]"
   ]
  },
  {
   "cell_type": "code",
   "execution_count": 70,
   "metadata": {},
   "outputs": [],
   "source": [
    "# Split the data into 80% training and 20% test sets\n",
    "x_train, x_test, y_train, y_test = train_test_split(x, y, test_size=0.2, shuffle=True, random_state=42)"
   ]
  },
  {
   "cell_type": "code",
   "execution_count": 71,
   "metadata": {
    "scrolled": true
   },
   "outputs": [
    {
     "name": "stdout",
     "output_type": "stream",
     "text": [
      "17085 4272 17085 4272\n"
     ]
    }
   ],
   "source": [
    "# Validate rows in splits look as expected\n",
    "print(len(x_train), len(x_test), len(y_train), len(y_test))"
   ]
  },
  {
   "cell_type": "markdown",
   "metadata": {},
   "source": [
    "### one-hot encode categorical variables"
   ]
  },
  {
   "cell_type": "code",
   "execution_count": 72,
   "metadata": {},
   "outputs": [
    {
     "data": {
      "text/plain": [
       "['bedrooms',\n",
       " 'bathrooms',\n",
       " 'floors',\n",
       " 'waterfront',\n",
       " 'viewed',\n",
       " 'condition',\n",
       " 'grade',\n",
       " 'yr_built',\n",
       " 'renovated_in_2000s',\n",
       " 'year_sold',\n",
       " 'season_sold',\n",
       " 'basement',\n",
       " 'sqft_lot']"
      ]
     },
     "execution_count": 72,
     "metadata": {},
     "output_type": "execute_result"
    }
   ],
   "source": [
    "categorical"
   ]
  },
  {
   "cell_type": "code",
   "execution_count": 73,
   "metadata": {},
   "outputs": [],
   "source": [
    "# Convert category variables data type\n",
    "# One-hot encode my categorical variables.\n",
    "needs_one_hot = categorical.copy()\n",
    "# These are already one-hot binary\n",
    "needs_one_hot.remove('waterfront')\n",
    "needs_one_hot.remove('viewed')\n",
    "needs_one_hot.remove('renovated_in_2000s')\n",
    "needs_one_hot.remove('basement')\n",
    "\n",
    "x_train[needs_one_hot] = x_train[needs_one_hot].astype('category')\n",
    "x_test[needs_one_hot] = x_test[needs_one_hot].astype('category')"
   ]
  },
  {
   "cell_type": "code",
   "execution_count": 74,
   "metadata": {},
   "outputs": [
    {
     "data": {
      "text/html": [
       "<div>\n",
       "<style scoped>\n",
       "    .dataframe tbody tr th:only-of-type {\n",
       "        vertical-align: middle;\n",
       "    }\n",
       "\n",
       "    .dataframe tbody tr th {\n",
       "        vertical-align: top;\n",
       "    }\n",
       "\n",
       "    .dataframe thead th {\n",
       "        text-align: right;\n",
       "    }\n",
       "</style>\n",
       "<table border=\"1\" class=\"dataframe\">\n",
       "  <thead>\n",
       "    <tr style=\"text-align: right;\">\n",
       "      <th></th>\n",
       "      <th>bedrooms_(0, 2]</th>\n",
       "      <th>bedrooms_(2, 3]</th>\n",
       "      <th>bedrooms_(3, 4]</th>\n",
       "      <th>bedrooms_(4, 33]</th>\n",
       "      <th>bathrooms_(0, 1]</th>\n",
       "      <th>bathrooms_(1, 2]</th>\n",
       "      <th>bathrooms_(2, 3]</th>\n",
       "      <th>bathrooms_(3, 8]</th>\n",
       "      <th>floors_(0, 1]</th>\n",
       "      <th>floors_(1, 2]</th>\n",
       "      <th>...</th>\n",
       "      <th>year_sold_2015</th>\n",
       "      <th>season_sold_Fall</th>\n",
       "      <th>season_sold_Spring</th>\n",
       "      <th>season_sold_Summer</th>\n",
       "      <th>season_sold_Winter</th>\n",
       "      <th>sqft_lot_(0, 2500]</th>\n",
       "      <th>sqft_lot_(2500, 5000]</th>\n",
       "      <th>sqft_lot_(5000, 7500]</th>\n",
       "      <th>sqft_lot_(7500, 10000]</th>\n",
       "      <th>sqft_lot_(10000, 10000000]</th>\n",
       "    </tr>\n",
       "  </thead>\n",
       "  <tbody>\n",
       "    <tr>\n",
       "      <th>16214</th>\n",
       "      <td>0</td>\n",
       "      <td>1</td>\n",
       "      <td>0</td>\n",
       "      <td>0</td>\n",
       "      <td>0</td>\n",
       "      <td>1</td>\n",
       "      <td>0</td>\n",
       "      <td>0</td>\n",
       "      <td>1</td>\n",
       "      <td>0</td>\n",
       "      <td>...</td>\n",
       "      <td>0</td>\n",
       "      <td>0</td>\n",
       "      <td>0</td>\n",
       "      <td>0</td>\n",
       "      <td>1</td>\n",
       "      <td>0</td>\n",
       "      <td>0</td>\n",
       "      <td>0</td>\n",
       "      <td>1</td>\n",
       "      <td>0</td>\n",
       "    </tr>\n",
       "    <tr>\n",
       "      <th>12438</th>\n",
       "      <td>0</td>\n",
       "      <td>1</td>\n",
       "      <td>0</td>\n",
       "      <td>0</td>\n",
       "      <td>0</td>\n",
       "      <td>1</td>\n",
       "      <td>0</td>\n",
       "      <td>0</td>\n",
       "      <td>1</td>\n",
       "      <td>0</td>\n",
       "      <td>...</td>\n",
       "      <td>0</td>\n",
       "      <td>1</td>\n",
       "      <td>0</td>\n",
       "      <td>0</td>\n",
       "      <td>0</td>\n",
       "      <td>0</td>\n",
       "      <td>0</td>\n",
       "      <td>1</td>\n",
       "      <td>0</td>\n",
       "      <td>0</td>\n",
       "    </tr>\n",
       "    <tr>\n",
       "      <th>7668</th>\n",
       "      <td>0</td>\n",
       "      <td>0</td>\n",
       "      <td>0</td>\n",
       "      <td>1</td>\n",
       "      <td>0</td>\n",
       "      <td>1</td>\n",
       "      <td>0</td>\n",
       "      <td>0</td>\n",
       "      <td>0</td>\n",
       "      <td>1</td>\n",
       "      <td>...</td>\n",
       "      <td>0</td>\n",
       "      <td>0</td>\n",
       "      <td>0</td>\n",
       "      <td>0</td>\n",
       "      <td>1</td>\n",
       "      <td>0</td>\n",
       "      <td>1</td>\n",
       "      <td>0</td>\n",
       "      <td>0</td>\n",
       "      <td>0</td>\n",
       "    </tr>\n",
       "    <tr>\n",
       "      <th>14679</th>\n",
       "      <td>0</td>\n",
       "      <td>0</td>\n",
       "      <td>1</td>\n",
       "      <td>0</td>\n",
       "      <td>0</td>\n",
       "      <td>0</td>\n",
       "      <td>1</td>\n",
       "      <td>0</td>\n",
       "      <td>0</td>\n",
       "      <td>1</td>\n",
       "      <td>...</td>\n",
       "      <td>0</td>\n",
       "      <td>1</td>\n",
       "      <td>0</td>\n",
       "      <td>0</td>\n",
       "      <td>0</td>\n",
       "      <td>0</td>\n",
       "      <td>0</td>\n",
       "      <td>0</td>\n",
       "      <td>1</td>\n",
       "      <td>0</td>\n",
       "    </tr>\n",
       "    <tr>\n",
       "      <th>6031</th>\n",
       "      <td>0</td>\n",
       "      <td>0</td>\n",
       "      <td>0</td>\n",
       "      <td>1</td>\n",
       "      <td>0</td>\n",
       "      <td>1</td>\n",
       "      <td>0</td>\n",
       "      <td>0</td>\n",
       "      <td>0</td>\n",
       "      <td>1</td>\n",
       "      <td>...</td>\n",
       "      <td>0</td>\n",
       "      <td>0</td>\n",
       "      <td>0</td>\n",
       "      <td>1</td>\n",
       "      <td>0</td>\n",
       "      <td>0</td>\n",
       "      <td>1</td>\n",
       "      <td>0</td>\n",
       "      <td>0</td>\n",
       "      <td>0</td>\n",
       "    </tr>\n",
       "  </tbody>\n",
       "</table>\n",
       "<p>5 rows × 33 columns</p>\n",
       "</div>"
      ],
      "text/plain": [
       "       bedrooms_(0, 2]  bedrooms_(2, 3]  bedrooms_(3, 4]  bedrooms_(4, 33]  \\\n",
       "16214                0                1                0                 0   \n",
       "12438                0                1                0                 0   \n",
       "7668                 0                0                0                 1   \n",
       "14679                0                0                1                 0   \n",
       "6031                 0                0                0                 1   \n",
       "\n",
       "       bathrooms_(0, 1]  bathrooms_(1, 2]  bathrooms_(2, 3]  bathrooms_(3, 8]  \\\n",
       "16214                 0                 1                 0                 0   \n",
       "12438                 0                 1                 0                 0   \n",
       "7668                  0                 1                 0                 0   \n",
       "14679                 0                 0                 1                 0   \n",
       "6031                  0                 1                 0                 0   \n",
       "\n",
       "       floors_(0, 1]  floors_(1, 2]  ...  year_sold_2015  season_sold_Fall  \\\n",
       "16214              1              0  ...               0                 0   \n",
       "12438              1              0  ...               0                 1   \n",
       "7668               0              1  ...               0                 0   \n",
       "14679              0              1  ...               0                 1   \n",
       "6031               0              1  ...               0                 0   \n",
       "\n",
       "       season_sold_Spring  season_sold_Summer  season_sold_Winter  \\\n",
       "16214                   0                   0                   1   \n",
       "12438                   0                   0                   0   \n",
       "7668                    0                   0                   1   \n",
       "14679                   0                   0                   0   \n",
       "6031                    0                   1                   0   \n",
       "\n",
       "       sqft_lot_(0, 2500]  sqft_lot_(2500, 5000]  sqft_lot_(5000, 7500]  \\\n",
       "16214                   0                      0                      0   \n",
       "12438                   0                      0                      1   \n",
       "7668                    0                      1                      0   \n",
       "14679                   0                      0                      0   \n",
       "6031                    0                      1                      0   \n",
       "\n",
       "       sqft_lot_(7500, 10000]  sqft_lot_(10000, 10000000]  \n",
       "16214                       1                           0  \n",
       "12438                       0                           0  \n",
       "7668                        0                           0  \n",
       "14679                       1                           0  \n",
       "6031                        0                           0  \n",
       "\n",
       "[5 rows x 33 columns]"
      ]
     },
     "execution_count": 74,
     "metadata": {},
     "output_type": "execute_result"
    }
   ],
   "source": [
    "## one hot encode categoricals training set\n",
    "x_train_ohe = pd.get_dummies(x_train[needs_one_hot])\n",
    "x_train_ohe.head()"
   ]
  },
  {
   "cell_type": "code",
   "execution_count": 75,
   "metadata": {},
   "outputs": [
    {
     "data": {
      "text/html": [
       "<div>\n",
       "<style scoped>\n",
       "    .dataframe tbody tr th:only-of-type {\n",
       "        vertical-align: middle;\n",
       "    }\n",
       "\n",
       "    .dataframe tbody tr th {\n",
       "        vertical-align: top;\n",
       "    }\n",
       "\n",
       "    .dataframe thead th {\n",
       "        text-align: right;\n",
       "    }\n",
       "</style>\n",
       "<table border=\"1\" class=\"dataframe\">\n",
       "  <thead>\n",
       "    <tr style=\"text-align: right;\">\n",
       "      <th></th>\n",
       "      <th>bedrooms_(0, 2]</th>\n",
       "      <th>bedrooms_(2, 3]</th>\n",
       "      <th>bedrooms_(3, 4]</th>\n",
       "      <th>bedrooms_(4, 33]</th>\n",
       "      <th>bathrooms_(0, 1]</th>\n",
       "      <th>bathrooms_(1, 2]</th>\n",
       "      <th>bathrooms_(2, 3]</th>\n",
       "      <th>bathrooms_(3, 8]</th>\n",
       "      <th>floors_(0, 1]</th>\n",
       "      <th>floors_(1, 2]</th>\n",
       "      <th>...</th>\n",
       "      <th>year_sold_2015</th>\n",
       "      <th>season_sold_Fall</th>\n",
       "      <th>season_sold_Spring</th>\n",
       "      <th>season_sold_Summer</th>\n",
       "      <th>season_sold_Winter</th>\n",
       "      <th>sqft_lot_(0, 2500]</th>\n",
       "      <th>sqft_lot_(2500, 5000]</th>\n",
       "      <th>sqft_lot_(5000, 7500]</th>\n",
       "      <th>sqft_lot_(7500, 10000]</th>\n",
       "      <th>sqft_lot_(10000, 10000000]</th>\n",
       "    </tr>\n",
       "  </thead>\n",
       "  <tbody>\n",
       "    <tr>\n",
       "      <th>15235</th>\n",
       "      <td>0</td>\n",
       "      <td>1</td>\n",
       "      <td>0</td>\n",
       "      <td>0</td>\n",
       "      <td>1</td>\n",
       "      <td>0</td>\n",
       "      <td>0</td>\n",
       "      <td>0</td>\n",
       "      <td>1</td>\n",
       "      <td>0</td>\n",
       "      <td>...</td>\n",
       "      <td>1</td>\n",
       "      <td>0</td>\n",
       "      <td>1</td>\n",
       "      <td>0</td>\n",
       "      <td>0</td>\n",
       "      <td>0</td>\n",
       "      <td>0</td>\n",
       "      <td>1</td>\n",
       "      <td>0</td>\n",
       "      <td>0</td>\n",
       "    </tr>\n",
       "    <tr>\n",
       "      <th>7564</th>\n",
       "      <td>0</td>\n",
       "      <td>1</td>\n",
       "      <td>0</td>\n",
       "      <td>0</td>\n",
       "      <td>0</td>\n",
       "      <td>1</td>\n",
       "      <td>0</td>\n",
       "      <td>0</td>\n",
       "      <td>1</td>\n",
       "      <td>0</td>\n",
       "      <td>...</td>\n",
       "      <td>0</td>\n",
       "      <td>0</td>\n",
       "      <td>1</td>\n",
       "      <td>0</td>\n",
       "      <td>0</td>\n",
       "      <td>0</td>\n",
       "      <td>0</td>\n",
       "      <td>0</td>\n",
       "      <td>0</td>\n",
       "      <td>1</td>\n",
       "    </tr>\n",
       "    <tr>\n",
       "      <th>18362</th>\n",
       "      <td>1</td>\n",
       "      <td>0</td>\n",
       "      <td>0</td>\n",
       "      <td>0</td>\n",
       "      <td>1</td>\n",
       "      <td>0</td>\n",
       "      <td>0</td>\n",
       "      <td>0</td>\n",
       "      <td>1</td>\n",
       "      <td>0</td>\n",
       "      <td>...</td>\n",
       "      <td>0</td>\n",
       "      <td>0</td>\n",
       "      <td>0</td>\n",
       "      <td>1</td>\n",
       "      <td>0</td>\n",
       "      <td>0</td>\n",
       "      <td>0</td>\n",
       "      <td>1</td>\n",
       "      <td>0</td>\n",
       "      <td>0</td>\n",
       "    </tr>\n",
       "    <tr>\n",
       "      <th>5922</th>\n",
       "      <td>1</td>\n",
       "      <td>0</td>\n",
       "      <td>0</td>\n",
       "      <td>0</td>\n",
       "      <td>0</td>\n",
       "      <td>1</td>\n",
       "      <td>0</td>\n",
       "      <td>0</td>\n",
       "      <td>0</td>\n",
       "      <td>1</td>\n",
       "      <td>...</td>\n",
       "      <td>0</td>\n",
       "      <td>0</td>\n",
       "      <td>1</td>\n",
       "      <td>0</td>\n",
       "      <td>0</td>\n",
       "      <td>1</td>\n",
       "      <td>0</td>\n",
       "      <td>0</td>\n",
       "      <td>0</td>\n",
       "      <td>0</td>\n",
       "    </tr>\n",
       "    <tr>\n",
       "      <th>11844</th>\n",
       "      <td>0</td>\n",
       "      <td>1</td>\n",
       "      <td>0</td>\n",
       "      <td>0</td>\n",
       "      <td>1</td>\n",
       "      <td>0</td>\n",
       "      <td>0</td>\n",
       "      <td>0</td>\n",
       "      <td>1</td>\n",
       "      <td>0</td>\n",
       "      <td>...</td>\n",
       "      <td>0</td>\n",
       "      <td>1</td>\n",
       "      <td>0</td>\n",
       "      <td>0</td>\n",
       "      <td>0</td>\n",
       "      <td>0</td>\n",
       "      <td>0</td>\n",
       "      <td>0</td>\n",
       "      <td>1</td>\n",
       "      <td>0</td>\n",
       "    </tr>\n",
       "  </tbody>\n",
       "</table>\n",
       "<p>5 rows × 33 columns</p>\n",
       "</div>"
      ],
      "text/plain": [
       "       bedrooms_(0, 2]  bedrooms_(2, 3]  bedrooms_(3, 4]  bedrooms_(4, 33]  \\\n",
       "15235                0                1                0                 0   \n",
       "7564                 0                1                0                 0   \n",
       "18362                1                0                0                 0   \n",
       "5922                 1                0                0                 0   \n",
       "11844                0                1                0                 0   \n",
       "\n",
       "       bathrooms_(0, 1]  bathrooms_(1, 2]  bathrooms_(2, 3]  bathrooms_(3, 8]  \\\n",
       "15235                 1                 0                 0                 0   \n",
       "7564                  0                 1                 0                 0   \n",
       "18362                 1                 0                 0                 0   \n",
       "5922                  0                 1                 0                 0   \n",
       "11844                 1                 0                 0                 0   \n",
       "\n",
       "       floors_(0, 1]  floors_(1, 2]  ...  year_sold_2015  season_sold_Fall  \\\n",
       "15235              1              0  ...               1                 0   \n",
       "7564               1              0  ...               0                 0   \n",
       "18362              1              0  ...               0                 0   \n",
       "5922               0              1  ...               0                 0   \n",
       "11844              1              0  ...               0                 1   \n",
       "\n",
       "       season_sold_Spring  season_sold_Summer  season_sold_Winter  \\\n",
       "15235                   1                   0                   0   \n",
       "7564                    1                   0                   0   \n",
       "18362                   0                   1                   0   \n",
       "5922                    1                   0                   0   \n",
       "11844                   0                   0                   0   \n",
       "\n",
       "       sqft_lot_(0, 2500]  sqft_lot_(2500, 5000]  sqft_lot_(5000, 7500]  \\\n",
       "15235                   0                      0                      1   \n",
       "7564                    0                      0                      0   \n",
       "18362                   0                      0                      1   \n",
       "5922                    1                      0                      0   \n",
       "11844                   0                      0                      0   \n",
       "\n",
       "       sqft_lot_(7500, 10000]  sqft_lot_(10000, 10000000]  \n",
       "15235                       0                           0  \n",
       "7564                        0                           1  \n",
       "18362                       0                           0  \n",
       "5922                        0                           0  \n",
       "11844                       1                           0  \n",
       "\n",
       "[5 rows x 33 columns]"
      ]
     },
     "execution_count": 75,
     "metadata": {},
     "output_type": "execute_result"
    }
   ],
   "source": [
    "## one hot encode categoricals test set\n",
    "x_test_ohe = pd.get_dummies(x_test[needs_one_hot])\n",
    "x_test_ohe.head()"
   ]
  },
  {
   "cell_type": "code",
   "execution_count": 76,
   "metadata": {
    "scrolled": true
   },
   "outputs": [
    {
     "data": {
      "text/html": [
       "<div>\n",
       "<style scoped>\n",
       "    .dataframe tbody tr th:only-of-type {\n",
       "        vertical-align: middle;\n",
       "    }\n",
       "\n",
       "    .dataframe tbody tr th {\n",
       "        vertical-align: top;\n",
       "    }\n",
       "\n",
       "    .dataframe thead th {\n",
       "        text-align: right;\n",
       "    }\n",
       "</style>\n",
       "<table border=\"1\" class=\"dataframe\">\n",
       "  <thead>\n",
       "    <tr style=\"text-align: right;\">\n",
       "      <th></th>\n",
       "      <th>sqft_living</th>\n",
       "      <th>bedrooms_(0, 2]</th>\n",
       "      <th>bedrooms_(2, 3]</th>\n",
       "      <th>bedrooms_(3, 4]</th>\n",
       "      <th>bedrooms_(4, 33]</th>\n",
       "      <th>bathrooms_(0, 1]</th>\n",
       "      <th>bathrooms_(1, 2]</th>\n",
       "      <th>bathrooms_(2, 3]</th>\n",
       "      <th>bathrooms_(3, 8]</th>\n",
       "      <th>floors_(0, 1]</th>\n",
       "      <th>...</th>\n",
       "      <th>year_sold_2015</th>\n",
       "      <th>season_sold_Fall</th>\n",
       "      <th>season_sold_Spring</th>\n",
       "      <th>season_sold_Summer</th>\n",
       "      <th>season_sold_Winter</th>\n",
       "      <th>sqft_lot_(0, 2500]</th>\n",
       "      <th>sqft_lot_(2500, 5000]</th>\n",
       "      <th>sqft_lot_(5000, 7500]</th>\n",
       "      <th>sqft_lot_(7500, 10000]</th>\n",
       "      <th>sqft_lot_(10000, 10000000]</th>\n",
       "    </tr>\n",
       "  </thead>\n",
       "  <tbody>\n",
       "    <tr>\n",
       "      <th>16214</th>\n",
       "      <td>7.339538</td>\n",
       "      <td>0</td>\n",
       "      <td>1</td>\n",
       "      <td>0</td>\n",
       "      <td>0</td>\n",
       "      <td>0</td>\n",
       "      <td>1</td>\n",
       "      <td>0</td>\n",
       "      <td>0</td>\n",
       "      <td>1</td>\n",
       "      <td>...</td>\n",
       "      <td>0</td>\n",
       "      <td>0</td>\n",
       "      <td>0</td>\n",
       "      <td>0</td>\n",
       "      <td>1</td>\n",
       "      <td>0</td>\n",
       "      <td>0</td>\n",
       "      <td>0</td>\n",
       "      <td>1</td>\n",
       "      <td>0</td>\n",
       "    </tr>\n",
       "    <tr>\n",
       "      <th>12438</th>\n",
       "      <td>7.533694</td>\n",
       "      <td>0</td>\n",
       "      <td>1</td>\n",
       "      <td>0</td>\n",
       "      <td>0</td>\n",
       "      <td>0</td>\n",
       "      <td>1</td>\n",
       "      <td>0</td>\n",
       "      <td>0</td>\n",
       "      <td>1</td>\n",
       "      <td>...</td>\n",
       "      <td>0</td>\n",
       "      <td>1</td>\n",
       "      <td>0</td>\n",
       "      <td>0</td>\n",
       "      <td>0</td>\n",
       "      <td>0</td>\n",
       "      <td>0</td>\n",
       "      <td>1</td>\n",
       "      <td>0</td>\n",
       "      <td>0</td>\n",
       "    </tr>\n",
       "    <tr>\n",
       "      <th>7668</th>\n",
       "      <td>7.610853</td>\n",
       "      <td>0</td>\n",
       "      <td>0</td>\n",
       "      <td>0</td>\n",
       "      <td>1</td>\n",
       "      <td>0</td>\n",
       "      <td>1</td>\n",
       "      <td>0</td>\n",
       "      <td>0</td>\n",
       "      <td>0</td>\n",
       "      <td>...</td>\n",
       "      <td>0</td>\n",
       "      <td>0</td>\n",
       "      <td>0</td>\n",
       "      <td>0</td>\n",
       "      <td>1</td>\n",
       "      <td>0</td>\n",
       "      <td>1</td>\n",
       "      <td>0</td>\n",
       "      <td>0</td>\n",
       "      <td>0</td>\n",
       "    </tr>\n",
       "    <tr>\n",
       "      <th>14679</th>\n",
       "      <td>7.522941</td>\n",
       "      <td>0</td>\n",
       "      <td>0</td>\n",
       "      <td>1</td>\n",
       "      <td>0</td>\n",
       "      <td>0</td>\n",
       "      <td>0</td>\n",
       "      <td>1</td>\n",
       "      <td>0</td>\n",
       "      <td>0</td>\n",
       "      <td>...</td>\n",
       "      <td>0</td>\n",
       "      <td>1</td>\n",
       "      <td>0</td>\n",
       "      <td>0</td>\n",
       "      <td>0</td>\n",
       "      <td>0</td>\n",
       "      <td>0</td>\n",
       "      <td>0</td>\n",
       "      <td>1</td>\n",
       "      <td>0</td>\n",
       "    </tr>\n",
       "    <tr>\n",
       "      <th>6031</th>\n",
       "      <td>7.138867</td>\n",
       "      <td>0</td>\n",
       "      <td>0</td>\n",
       "      <td>0</td>\n",
       "      <td>1</td>\n",
       "      <td>0</td>\n",
       "      <td>1</td>\n",
       "      <td>0</td>\n",
       "      <td>0</td>\n",
       "      <td>0</td>\n",
       "      <td>...</td>\n",
       "      <td>0</td>\n",
       "      <td>0</td>\n",
       "      <td>0</td>\n",
       "      <td>1</td>\n",
       "      <td>0</td>\n",
       "      <td>0</td>\n",
       "      <td>1</td>\n",
       "      <td>0</td>\n",
       "      <td>0</td>\n",
       "      <td>0</td>\n",
       "    </tr>\n",
       "  </tbody>\n",
       "</table>\n",
       "<p>5 rows × 34 columns</p>\n",
       "</div>"
      ],
      "text/plain": [
       "       sqft_living  bedrooms_(0, 2]  bedrooms_(2, 3]  bedrooms_(3, 4]  \\\n",
       "16214     7.339538                0                1                0   \n",
       "12438     7.533694                0                1                0   \n",
       "7668      7.610853                0                0                0   \n",
       "14679     7.522941                0                0                1   \n",
       "6031      7.138867                0                0                0   \n",
       "\n",
       "       bedrooms_(4, 33]  bathrooms_(0, 1]  bathrooms_(1, 2]  bathrooms_(2, 3]  \\\n",
       "16214                 0                 0                 1                 0   \n",
       "12438                 0                 0                 1                 0   \n",
       "7668                  1                 0                 1                 0   \n",
       "14679                 0                 0                 0                 1   \n",
       "6031                  1                 0                 1                 0   \n",
       "\n",
       "       bathrooms_(3, 8]  floors_(0, 1]  ...  year_sold_2015  season_sold_Fall  \\\n",
       "16214                 0              1  ...               0                 0   \n",
       "12438                 0              1  ...               0                 1   \n",
       "7668                  0              0  ...               0                 0   \n",
       "14679                 0              0  ...               0                 1   \n",
       "6031                  0              0  ...               0                 0   \n",
       "\n",
       "       season_sold_Spring  season_sold_Summer  season_sold_Winter  \\\n",
       "16214                   0                   0                   1   \n",
       "12438                   0                   0                   0   \n",
       "7668                    0                   0                   1   \n",
       "14679                   0                   0                   0   \n",
       "6031                    0                   1                   0   \n",
       "\n",
       "       sqft_lot_(0, 2500]  sqft_lot_(2500, 5000]  sqft_lot_(5000, 7500]  \\\n",
       "16214                   0                      0                      0   \n",
       "12438                   0                      0                      1   \n",
       "7668                    0                      1                      0   \n",
       "14679                   0                      0                      0   \n",
       "6031                    0                      1                      0   \n",
       "\n",
       "       sqft_lot_(7500, 10000]  sqft_lot_(10000, 10000000]  \n",
       "16214                       1                           0  \n",
       "12438                       0                           0  \n",
       "7668                        0                           0  \n",
       "14679                       1                           0  \n",
       "6031                        0                           0  \n",
       "\n",
       "[5 rows x 34 columns]"
      ]
     },
     "execution_count": 76,
     "metadata": {},
     "output_type": "execute_result"
    }
   ],
   "source": [
    "## Concatenate OHE columns with original dataframe, dropping OHE original features\n",
    "x_train = pd.concat([x_train, x_train_ohe], axis=1)\n",
    "x_train.drop(['bedrooms', 'bathrooms', 'floors', 'waterfront', 'viewed', 'condition', 'grade', \n",
    "                          'yr_built', 'renovated_in_2000s', 'year_sold','season_sold',\n",
    "                          'basement', 'sqft_lot'], axis=1, inplace=True)\n",
    "x_train.head()"
   ]
  },
  {
   "cell_type": "code",
   "execution_count": 77,
   "metadata": {},
   "outputs": [
    {
     "data": {
      "text/html": [
       "<div>\n",
       "<style scoped>\n",
       "    .dataframe tbody tr th:only-of-type {\n",
       "        vertical-align: middle;\n",
       "    }\n",
       "\n",
       "    .dataframe tbody tr th {\n",
       "        vertical-align: top;\n",
       "    }\n",
       "\n",
       "    .dataframe thead th {\n",
       "        text-align: right;\n",
       "    }\n",
       "</style>\n",
       "<table border=\"1\" class=\"dataframe\">\n",
       "  <thead>\n",
       "    <tr style=\"text-align: right;\">\n",
       "      <th></th>\n",
       "      <th>sqft_living</th>\n",
       "      <th>bedrooms_(0, 2]</th>\n",
       "      <th>bedrooms_(2, 3]</th>\n",
       "      <th>bedrooms_(3, 4]</th>\n",
       "      <th>bedrooms_(4, 33]</th>\n",
       "      <th>bathrooms_(0, 1]</th>\n",
       "      <th>bathrooms_(1, 2]</th>\n",
       "      <th>bathrooms_(2, 3]</th>\n",
       "      <th>bathrooms_(3, 8]</th>\n",
       "      <th>floors_(0, 1]</th>\n",
       "      <th>...</th>\n",
       "      <th>year_sold_2015</th>\n",
       "      <th>season_sold_Fall</th>\n",
       "      <th>season_sold_Spring</th>\n",
       "      <th>season_sold_Summer</th>\n",
       "      <th>season_sold_Winter</th>\n",
       "      <th>sqft_lot_(0, 2500]</th>\n",
       "      <th>sqft_lot_(2500, 5000]</th>\n",
       "      <th>sqft_lot_(5000, 7500]</th>\n",
       "      <th>sqft_lot_(7500, 10000]</th>\n",
       "      <th>sqft_lot_(10000, 10000000]</th>\n",
       "    </tr>\n",
       "  </thead>\n",
       "  <tbody>\n",
       "    <tr>\n",
       "      <th>15235</th>\n",
       "      <td>6.966024</td>\n",
       "      <td>0</td>\n",
       "      <td>1</td>\n",
       "      <td>0</td>\n",
       "      <td>0</td>\n",
       "      <td>1</td>\n",
       "      <td>0</td>\n",
       "      <td>0</td>\n",
       "      <td>0</td>\n",
       "      <td>1</td>\n",
       "      <td>...</td>\n",
       "      <td>1</td>\n",
       "      <td>0</td>\n",
       "      <td>1</td>\n",
       "      <td>0</td>\n",
       "      <td>0</td>\n",
       "      <td>0</td>\n",
       "      <td>0</td>\n",
       "      <td>1</td>\n",
       "      <td>0</td>\n",
       "      <td>0</td>\n",
       "    </tr>\n",
       "    <tr>\n",
       "      <th>7564</th>\n",
       "      <td>7.012115</td>\n",
       "      <td>0</td>\n",
       "      <td>1</td>\n",
       "      <td>0</td>\n",
       "      <td>0</td>\n",
       "      <td>0</td>\n",
       "      <td>1</td>\n",
       "      <td>0</td>\n",
       "      <td>0</td>\n",
       "      <td>1</td>\n",
       "      <td>...</td>\n",
       "      <td>0</td>\n",
       "      <td>0</td>\n",
       "      <td>1</td>\n",
       "      <td>0</td>\n",
       "      <td>0</td>\n",
       "      <td>0</td>\n",
       "      <td>0</td>\n",
       "      <td>0</td>\n",
       "      <td>0</td>\n",
       "      <td>1</td>\n",
       "    </tr>\n",
       "    <tr>\n",
       "      <th>18362</th>\n",
       "      <td>6.917706</td>\n",
       "      <td>1</td>\n",
       "      <td>0</td>\n",
       "      <td>0</td>\n",
       "      <td>0</td>\n",
       "      <td>1</td>\n",
       "      <td>0</td>\n",
       "      <td>0</td>\n",
       "      <td>0</td>\n",
       "      <td>1</td>\n",
       "      <td>...</td>\n",
       "      <td>0</td>\n",
       "      <td>0</td>\n",
       "      <td>0</td>\n",
       "      <td>1</td>\n",
       "      <td>0</td>\n",
       "      <td>0</td>\n",
       "      <td>0</td>\n",
       "      <td>1</td>\n",
       "      <td>0</td>\n",
       "      <td>0</td>\n",
       "    </tr>\n",
       "    <tr>\n",
       "      <th>5922</th>\n",
       "      <td>7.346010</td>\n",
       "      <td>1</td>\n",
       "      <td>0</td>\n",
       "      <td>0</td>\n",
       "      <td>0</td>\n",
       "      <td>0</td>\n",
       "      <td>1</td>\n",
       "      <td>0</td>\n",
       "      <td>0</td>\n",
       "      <td>0</td>\n",
       "      <td>...</td>\n",
       "      <td>0</td>\n",
       "      <td>0</td>\n",
       "      <td>1</td>\n",
       "      <td>0</td>\n",
       "      <td>0</td>\n",
       "      <td>1</td>\n",
       "      <td>0</td>\n",
       "      <td>0</td>\n",
       "      <td>0</td>\n",
       "      <td>0</td>\n",
       "    </tr>\n",
       "    <tr>\n",
       "      <th>11844</th>\n",
       "      <td>6.791221</td>\n",
       "      <td>0</td>\n",
       "      <td>1</td>\n",
       "      <td>0</td>\n",
       "      <td>0</td>\n",
       "      <td>1</td>\n",
       "      <td>0</td>\n",
       "      <td>0</td>\n",
       "      <td>0</td>\n",
       "      <td>1</td>\n",
       "      <td>...</td>\n",
       "      <td>0</td>\n",
       "      <td>1</td>\n",
       "      <td>0</td>\n",
       "      <td>0</td>\n",
       "      <td>0</td>\n",
       "      <td>0</td>\n",
       "      <td>0</td>\n",
       "      <td>0</td>\n",
       "      <td>1</td>\n",
       "      <td>0</td>\n",
       "    </tr>\n",
       "  </tbody>\n",
       "</table>\n",
       "<p>5 rows × 34 columns</p>\n",
       "</div>"
      ],
      "text/plain": [
       "       sqft_living  bedrooms_(0, 2]  bedrooms_(2, 3]  bedrooms_(3, 4]  \\\n",
       "15235     6.966024                0                1                0   \n",
       "7564      7.012115                0                1                0   \n",
       "18362     6.917706                1                0                0   \n",
       "5922      7.346010                1                0                0   \n",
       "11844     6.791221                0                1                0   \n",
       "\n",
       "       bedrooms_(4, 33]  bathrooms_(0, 1]  bathrooms_(1, 2]  bathrooms_(2, 3]  \\\n",
       "15235                 0                 1                 0                 0   \n",
       "7564                  0                 0                 1                 0   \n",
       "18362                 0                 1                 0                 0   \n",
       "5922                  0                 0                 1                 0   \n",
       "11844                 0                 1                 0                 0   \n",
       "\n",
       "       bathrooms_(3, 8]  floors_(0, 1]  ...  year_sold_2015  season_sold_Fall  \\\n",
       "15235                 0              1  ...               1                 0   \n",
       "7564                  0              1  ...               0                 0   \n",
       "18362                 0              1  ...               0                 0   \n",
       "5922                  0              0  ...               0                 0   \n",
       "11844                 0              1  ...               0                 1   \n",
       "\n",
       "       season_sold_Spring  season_sold_Summer  season_sold_Winter  \\\n",
       "15235                   1                   0                   0   \n",
       "7564                    1                   0                   0   \n",
       "18362                   0                   1                   0   \n",
       "5922                    1                   0                   0   \n",
       "11844                   0                   0                   0   \n",
       "\n",
       "       sqft_lot_(0, 2500]  sqft_lot_(2500, 5000]  sqft_lot_(5000, 7500]  \\\n",
       "15235                   0                      0                      1   \n",
       "7564                    0                      0                      0   \n",
       "18362                   0                      0                      1   \n",
       "5922                    1                      0                      0   \n",
       "11844                   0                      0                      0   \n",
       "\n",
       "       sqft_lot_(7500, 10000]  sqft_lot_(10000, 10000000]  \n",
       "15235                       0                           0  \n",
       "7564                        0                           1  \n",
       "18362                       0                           0  \n",
       "5922                        0                           0  \n",
       "11844                       1                           0  \n",
       "\n",
       "[5 rows x 34 columns]"
      ]
     },
     "execution_count": 77,
     "metadata": {},
     "output_type": "execute_result"
    }
   ],
   "source": [
    "## Concatenate OHE columns with original dataframe, dropping OHE original features\n",
    "x_test = pd.concat([x_test, x_test_ohe], axis=1)\n",
    "x_test.drop(['bedrooms', 'bathrooms', 'floors', 'waterfront', 'viewed', 'condition', 'grade', \n",
    "                          'yr_built', 'renovated_in_2000s', 'year_sold','season_sold',\n",
    "                          'basement', 'sqft_lot'], axis=1, inplace=True)\n",
    "x_test.head()"
   ]
  },
  {
   "cell_type": "markdown",
   "metadata": {},
   "source": [
    "### Model Iteration Variables"
   ]
  },
  {
   "cell_type": "code",
   "execution_count": 78,
   "metadata": {
    "scrolled": true
   },
   "outputs": [],
   "source": [
    "# create list so that random forest model important features are named\n",
    "rfm_columns = list(x_train.columns)\n",
    "# create list so that ols parameters in results summary are named\n",
    "xname_columns = list(x_train.columns)"
   ]
  },
  {
   "cell_type": "code",
   "execution_count": 79,
   "metadata": {},
   "outputs": [],
   "source": [
    "#add const to beginning of list for ols param names\n",
    "xname_columns.insert(0,'const')"
   ]
  },
  {
   "cell_type": "code",
   "execution_count": 80,
   "metadata": {},
   "outputs": [
    {
     "name": "stdout",
     "output_type": "stream",
     "text": [
      "New list after removing unwanted feats:  ['const', 'sqft_living', 'bedrooms_(0, 2]', 'bedrooms_(3, 4]', 'bedrooms_(4, 33]', 'bathrooms_(0, 1]', 'bathrooms_(2, 3]', 'bathrooms_(3, 8]', 'floors_(1, 2]', 'floors_(2, 4]', 'condition_(0, 2]', 'condition_(2, 3]', 'condition_(3, 5]', 'yr_built_(1950, 1975]', 'yr_built_(1975, 2000]', 'yr_built_(2000, 2015]', 'year_sold_2014', 'year_sold_2015', 'season_sold_Spring', 'season_sold_Winter', 'sqft_lot_(0, 2500]', 'sqft_lot_(2500, 5000]', 'sqft_lot_(5000, 7500]', 'sqft_lot_(7500, 10000]', 'sqft_lot_(10000, 10000000]']\n"
     ]
    }
   ],
   "source": [
    "#feature selection for second ols model\n",
    "xname2_columns = xname_columns.copy()\n",
    "\n",
    "# items to be removed\n",
    "unwanted_feats = {'bedrooms_(2, 3]', 'bathrooms_(1, 2]', 'floors_(0, 1]', 'yr_built_(1900, 1950]', \n",
    "                           'season_sold_Fall', 'season_sold_Summer', 'grade_(0, 4]', 'grade_(4, 5]','grade_(5, 7]',\n",
    "                             'grade_(7, 10]'}\n",
    "  \n",
    "xname2_columns = [ele for ele in xname2_columns if ele not in unwanted_feats]\n",
    "  \n",
    "# printing modified list\n",
    "print(\"New list after removing unwanted feats: \", xname2_columns)"
   ]
  },
  {
   "cell_type": "code",
   "execution_count": 81,
   "metadata": {
    "scrolled": true
   },
   "outputs": [],
   "source": [
    "# Features for second iteration of Random Forest Model - train\n",
    "rf2_feats = ['sqft_living', 'grade_(0, 4]', 'yr_built_(1900, 1950]', 'grade_(5, 7]','sqft_lot_(2500, 5000]', \n",
    "                    'yr_built_(1950, 1975]', 'season_sold_Spring', 'season_sold_Summer','season_sold_Fall', \n",
    "                    'season_sold_Winter', 'sqft_lot_(10000, 10000000]','bedrooms_(2, 3]', 'condition_(3, 5]', \n",
    "                    'grade_(7, 10]', 'condition_(2, 3]', 'sqft_lot_(5000, 7500]', \n",
    "                    'sqft_lot_(7500, 10000]', 'bedrooms_(3, 4]', 'grade_(4, 5]', 'year_sold_2014'] \n",
    "x_train_rf2 = x_train[rf2_feats]\n",
    "\n",
    "# Features for second iteration of Random Forest Model - test\n",
    "x_test_rf2 = x_test[rf2_feats]\n"
   ]
  },
  {
   "cell_type": "code",
   "execution_count": 82,
   "metadata": {},
   "outputs": [
    {
     "data": {
      "text/html": [
       "<div>\n",
       "<style scoped>\n",
       "    .dataframe tbody tr th:only-of-type {\n",
       "        vertical-align: middle;\n",
       "    }\n",
       "\n",
       "    .dataframe tbody tr th {\n",
       "        vertical-align: top;\n",
       "    }\n",
       "\n",
       "    .dataframe thead th {\n",
       "        text-align: right;\n",
       "    }\n",
       "</style>\n",
       "<table border=\"1\" class=\"dataframe\">\n",
       "  <thead>\n",
       "    <tr style=\"text-align: right;\">\n",
       "      <th></th>\n",
       "      <th>sqft_living</th>\n",
       "      <th>bedrooms_(0, 2]</th>\n",
       "      <th>bedrooms_(2, 3]</th>\n",
       "      <th>bedrooms_(3, 4]</th>\n",
       "      <th>bedrooms_(4, 33]</th>\n",
       "      <th>bathrooms_(0, 1]</th>\n",
       "      <th>bathrooms_(1, 2]</th>\n",
       "      <th>bathrooms_(2, 3]</th>\n",
       "      <th>bathrooms_(3, 8]</th>\n",
       "      <th>floors_(0, 1]</th>\n",
       "      <th>...</th>\n",
       "      <th>year_sold_2015</th>\n",
       "      <th>season_sold_Fall</th>\n",
       "      <th>season_sold_Spring</th>\n",
       "      <th>season_sold_Summer</th>\n",
       "      <th>season_sold_Winter</th>\n",
       "      <th>sqft_lot_(0, 2500]</th>\n",
       "      <th>sqft_lot_(2500, 5000]</th>\n",
       "      <th>sqft_lot_(5000, 7500]</th>\n",
       "      <th>sqft_lot_(7500, 10000]</th>\n",
       "      <th>sqft_lot_(10000, 10000000]</th>\n",
       "    </tr>\n",
       "  </thead>\n",
       "  <tbody>\n",
       "    <tr>\n",
       "      <th>16214</th>\n",
       "      <td>7.339538</td>\n",
       "      <td>0</td>\n",
       "      <td>1</td>\n",
       "      <td>0</td>\n",
       "      <td>0</td>\n",
       "      <td>0</td>\n",
       "      <td>1</td>\n",
       "      <td>0</td>\n",
       "      <td>0</td>\n",
       "      <td>1</td>\n",
       "      <td>...</td>\n",
       "      <td>0</td>\n",
       "      <td>0</td>\n",
       "      <td>0</td>\n",
       "      <td>0</td>\n",
       "      <td>1</td>\n",
       "      <td>0</td>\n",
       "      <td>0</td>\n",
       "      <td>0</td>\n",
       "      <td>1</td>\n",
       "      <td>0</td>\n",
       "    </tr>\n",
       "    <tr>\n",
       "      <th>12438</th>\n",
       "      <td>7.533694</td>\n",
       "      <td>0</td>\n",
       "      <td>1</td>\n",
       "      <td>0</td>\n",
       "      <td>0</td>\n",
       "      <td>0</td>\n",
       "      <td>1</td>\n",
       "      <td>0</td>\n",
       "      <td>0</td>\n",
       "      <td>1</td>\n",
       "      <td>...</td>\n",
       "      <td>0</td>\n",
       "      <td>1</td>\n",
       "      <td>0</td>\n",
       "      <td>0</td>\n",
       "      <td>0</td>\n",
       "      <td>0</td>\n",
       "      <td>0</td>\n",
       "      <td>1</td>\n",
       "      <td>0</td>\n",
       "      <td>0</td>\n",
       "    </tr>\n",
       "    <tr>\n",
       "      <th>7668</th>\n",
       "      <td>7.610853</td>\n",
       "      <td>0</td>\n",
       "      <td>0</td>\n",
       "      <td>0</td>\n",
       "      <td>1</td>\n",
       "      <td>0</td>\n",
       "      <td>1</td>\n",
       "      <td>0</td>\n",
       "      <td>0</td>\n",
       "      <td>0</td>\n",
       "      <td>...</td>\n",
       "      <td>0</td>\n",
       "      <td>0</td>\n",
       "      <td>0</td>\n",
       "      <td>0</td>\n",
       "      <td>1</td>\n",
       "      <td>0</td>\n",
       "      <td>1</td>\n",
       "      <td>0</td>\n",
       "      <td>0</td>\n",
       "      <td>0</td>\n",
       "    </tr>\n",
       "    <tr>\n",
       "      <th>14679</th>\n",
       "      <td>7.522941</td>\n",
       "      <td>0</td>\n",
       "      <td>0</td>\n",
       "      <td>1</td>\n",
       "      <td>0</td>\n",
       "      <td>0</td>\n",
       "      <td>0</td>\n",
       "      <td>1</td>\n",
       "      <td>0</td>\n",
       "      <td>0</td>\n",
       "      <td>...</td>\n",
       "      <td>0</td>\n",
       "      <td>1</td>\n",
       "      <td>0</td>\n",
       "      <td>0</td>\n",
       "      <td>0</td>\n",
       "      <td>0</td>\n",
       "      <td>0</td>\n",
       "      <td>0</td>\n",
       "      <td>1</td>\n",
       "      <td>0</td>\n",
       "    </tr>\n",
       "    <tr>\n",
       "      <th>6031</th>\n",
       "      <td>7.138867</td>\n",
       "      <td>0</td>\n",
       "      <td>0</td>\n",
       "      <td>0</td>\n",
       "      <td>1</td>\n",
       "      <td>0</td>\n",
       "      <td>1</td>\n",
       "      <td>0</td>\n",
       "      <td>0</td>\n",
       "      <td>0</td>\n",
       "      <td>...</td>\n",
       "      <td>0</td>\n",
       "      <td>0</td>\n",
       "      <td>0</td>\n",
       "      <td>1</td>\n",
       "      <td>0</td>\n",
       "      <td>0</td>\n",
       "      <td>1</td>\n",
       "      <td>0</td>\n",
       "      <td>0</td>\n",
       "      <td>0</td>\n",
       "    </tr>\n",
       "  </tbody>\n",
       "</table>\n",
       "<p>5 rows × 34 columns</p>\n",
       "</div>"
      ],
      "text/plain": [
       "       sqft_living  bedrooms_(0, 2]  bedrooms_(2, 3]  bedrooms_(3, 4]  \\\n",
       "16214     7.339538                0                1                0   \n",
       "12438     7.533694                0                1                0   \n",
       "7668      7.610853                0                0                0   \n",
       "14679     7.522941                0                0                1   \n",
       "6031      7.138867                0                0                0   \n",
       "\n",
       "       bedrooms_(4, 33]  bathrooms_(0, 1]  bathrooms_(1, 2]  bathrooms_(2, 3]  \\\n",
       "16214                 0                 0                 1                 0   \n",
       "12438                 0                 0                 1                 0   \n",
       "7668                  1                 0                 1                 0   \n",
       "14679                 0                 0                 0                 1   \n",
       "6031                  1                 0                 1                 0   \n",
       "\n",
       "       bathrooms_(3, 8]  floors_(0, 1]  ...  year_sold_2015  season_sold_Fall  \\\n",
       "16214                 0              1  ...               0                 0   \n",
       "12438                 0              1  ...               0                 1   \n",
       "7668                  0              0  ...               0                 0   \n",
       "14679                 0              0  ...               0                 1   \n",
       "6031                  0              0  ...               0                 0   \n",
       "\n",
       "       season_sold_Spring  season_sold_Summer  season_sold_Winter  \\\n",
       "16214                   0                   0                   1   \n",
       "12438                   0                   0                   0   \n",
       "7668                    0                   0                   1   \n",
       "14679                   0                   0                   0   \n",
       "6031                    0                   1                   0   \n",
       "\n",
       "       sqft_lot_(0, 2500]  sqft_lot_(2500, 5000]  sqft_lot_(5000, 7500]  \\\n",
       "16214                   0                      0                      0   \n",
       "12438                   0                      0                      1   \n",
       "7668                    0                      1                      0   \n",
       "14679                   0                      0                      0   \n",
       "6031                    0                      1                      0   \n",
       "\n",
       "       sqft_lot_(7500, 10000]  sqft_lot_(10000, 10000000]  \n",
       "16214                       1                           0  \n",
       "12438                       0                           0  \n",
       "7668                        0                           0  \n",
       "14679                       1                           0  \n",
       "6031                        0                           0  \n",
       "\n",
       "[5 rows x 34 columns]"
      ]
     },
     "execution_count": 82,
     "metadata": {},
     "output_type": "execute_result"
    }
   ],
   "source": [
    "x_train.head()"
   ]
  },
  {
   "cell_type": "code",
   "execution_count": 83,
   "metadata": {},
   "outputs": [
    {
     "data": {
      "text/html": [
       "<div>\n",
       "<style scoped>\n",
       "    .dataframe tbody tr th:only-of-type {\n",
       "        vertical-align: middle;\n",
       "    }\n",
       "\n",
       "    .dataframe tbody tr th {\n",
       "        vertical-align: top;\n",
       "    }\n",
       "\n",
       "    .dataframe thead th {\n",
       "        text-align: right;\n",
       "    }\n",
       "</style>\n",
       "<table border=\"1\" class=\"dataframe\">\n",
       "  <thead>\n",
       "    <tr style=\"text-align: right;\">\n",
       "      <th></th>\n",
       "      <th>sqft_living</th>\n",
       "      <th>bedrooms_(0, 2]</th>\n",
       "      <th>bedrooms_(3, 4]</th>\n",
       "      <th>bedrooms_(4, 33]</th>\n",
       "      <th>bathrooms_(0, 1]</th>\n",
       "      <th>bathrooms_(2, 3]</th>\n",
       "      <th>bathrooms_(3, 8]</th>\n",
       "      <th>floors_(1, 2]</th>\n",
       "      <th>floors_(2, 4]</th>\n",
       "      <th>condition_(0, 2]</th>\n",
       "      <th>...</th>\n",
       "      <th>yr_built_(2000, 2015]</th>\n",
       "      <th>year_sold_2014</th>\n",
       "      <th>year_sold_2015</th>\n",
       "      <th>season_sold_Spring</th>\n",
       "      <th>season_sold_Winter</th>\n",
       "      <th>sqft_lot_(0, 2500]</th>\n",
       "      <th>sqft_lot_(2500, 5000]</th>\n",
       "      <th>sqft_lot_(5000, 7500]</th>\n",
       "      <th>sqft_lot_(7500, 10000]</th>\n",
       "      <th>sqft_lot_(10000, 10000000]</th>\n",
       "    </tr>\n",
       "  </thead>\n",
       "  <tbody>\n",
       "    <tr>\n",
       "      <th>15235</th>\n",
       "      <td>6.966024</td>\n",
       "      <td>0</td>\n",
       "      <td>0</td>\n",
       "      <td>0</td>\n",
       "      <td>1</td>\n",
       "      <td>0</td>\n",
       "      <td>0</td>\n",
       "      <td>0</td>\n",
       "      <td>0</td>\n",
       "      <td>0</td>\n",
       "      <td>...</td>\n",
       "      <td>0</td>\n",
       "      <td>0</td>\n",
       "      <td>1</td>\n",
       "      <td>1</td>\n",
       "      <td>0</td>\n",
       "      <td>0</td>\n",
       "      <td>0</td>\n",
       "      <td>1</td>\n",
       "      <td>0</td>\n",
       "      <td>0</td>\n",
       "    </tr>\n",
       "    <tr>\n",
       "      <th>7564</th>\n",
       "      <td>7.012115</td>\n",
       "      <td>0</td>\n",
       "      <td>0</td>\n",
       "      <td>0</td>\n",
       "      <td>0</td>\n",
       "      <td>0</td>\n",
       "      <td>0</td>\n",
       "      <td>0</td>\n",
       "      <td>0</td>\n",
       "      <td>0</td>\n",
       "      <td>...</td>\n",
       "      <td>0</td>\n",
       "      <td>1</td>\n",
       "      <td>0</td>\n",
       "      <td>1</td>\n",
       "      <td>0</td>\n",
       "      <td>0</td>\n",
       "      <td>0</td>\n",
       "      <td>0</td>\n",
       "      <td>0</td>\n",
       "      <td>1</td>\n",
       "    </tr>\n",
       "    <tr>\n",
       "      <th>18362</th>\n",
       "      <td>6.917706</td>\n",
       "      <td>1</td>\n",
       "      <td>0</td>\n",
       "      <td>0</td>\n",
       "      <td>1</td>\n",
       "      <td>0</td>\n",
       "      <td>0</td>\n",
       "      <td>0</td>\n",
       "      <td>0</td>\n",
       "      <td>0</td>\n",
       "      <td>...</td>\n",
       "      <td>0</td>\n",
       "      <td>1</td>\n",
       "      <td>0</td>\n",
       "      <td>0</td>\n",
       "      <td>0</td>\n",
       "      <td>0</td>\n",
       "      <td>0</td>\n",
       "      <td>1</td>\n",
       "      <td>0</td>\n",
       "      <td>0</td>\n",
       "    </tr>\n",
       "    <tr>\n",
       "      <th>5922</th>\n",
       "      <td>7.346010</td>\n",
       "      <td>1</td>\n",
       "      <td>0</td>\n",
       "      <td>0</td>\n",
       "      <td>0</td>\n",
       "      <td>0</td>\n",
       "      <td>0</td>\n",
       "      <td>1</td>\n",
       "      <td>0</td>\n",
       "      <td>0</td>\n",
       "      <td>...</td>\n",
       "      <td>0</td>\n",
       "      <td>1</td>\n",
       "      <td>0</td>\n",
       "      <td>1</td>\n",
       "      <td>0</td>\n",
       "      <td>1</td>\n",
       "      <td>0</td>\n",
       "      <td>0</td>\n",
       "      <td>0</td>\n",
       "      <td>0</td>\n",
       "    </tr>\n",
       "    <tr>\n",
       "      <th>11844</th>\n",
       "      <td>6.791221</td>\n",
       "      <td>0</td>\n",
       "      <td>0</td>\n",
       "      <td>0</td>\n",
       "      <td>1</td>\n",
       "      <td>0</td>\n",
       "      <td>0</td>\n",
       "      <td>0</td>\n",
       "      <td>0</td>\n",
       "      <td>0</td>\n",
       "      <td>...</td>\n",
       "      <td>0</td>\n",
       "      <td>1</td>\n",
       "      <td>0</td>\n",
       "      <td>0</td>\n",
       "      <td>0</td>\n",
       "      <td>0</td>\n",
       "      <td>0</td>\n",
       "      <td>0</td>\n",
       "      <td>1</td>\n",
       "      <td>0</td>\n",
       "    </tr>\n",
       "  </tbody>\n",
       "</table>\n",
       "<p>5 rows × 24 columns</p>\n",
       "</div>"
      ],
      "text/plain": [
       "       sqft_living  bedrooms_(0, 2]  bedrooms_(3, 4]  bedrooms_(4, 33]  \\\n",
       "15235     6.966024                0                0                 0   \n",
       "7564      7.012115                0                0                 0   \n",
       "18362     6.917706                1                0                 0   \n",
       "5922      7.346010                1                0                 0   \n",
       "11844     6.791221                0                0                 0   \n",
       "\n",
       "       bathrooms_(0, 1]  bathrooms_(2, 3]  bathrooms_(3, 8]  floors_(1, 2]  \\\n",
       "15235                 1                 0                 0              0   \n",
       "7564                  0                 0                 0              0   \n",
       "18362                 1                 0                 0              0   \n",
       "5922                  0                 0                 0              1   \n",
       "11844                 1                 0                 0              0   \n",
       "\n",
       "       floors_(2, 4]  condition_(0, 2]  ...  yr_built_(2000, 2015]  \\\n",
       "15235              0                 0  ...                      0   \n",
       "7564               0                 0  ...                      0   \n",
       "18362              0                 0  ...                      0   \n",
       "5922               0                 0  ...                      0   \n",
       "11844              0                 0  ...                      0   \n",
       "\n",
       "       year_sold_2014  year_sold_2015  season_sold_Spring  season_sold_Winter  \\\n",
       "15235               0               1                   1                   0   \n",
       "7564                1               0                   1                   0   \n",
       "18362               1               0                   0                   0   \n",
       "5922                1               0                   1                   0   \n",
       "11844               1               0                   0                   0   \n",
       "\n",
       "       sqft_lot_(0, 2500]  sqft_lot_(2500, 5000]  sqft_lot_(5000, 7500]  \\\n",
       "15235                   0                      0                      1   \n",
       "7564                    0                      0                      0   \n",
       "18362                   0                      0                      1   \n",
       "5922                    1                      0                      0   \n",
       "11844                   0                      0                      0   \n",
       "\n",
       "       sqft_lot_(7500, 10000]  sqft_lot_(10000, 10000000]  \n",
       "15235                       0                           0  \n",
       "7564                        0                           1  \n",
       "18362                       0                           0  \n",
       "5922                        0                           0  \n",
       "11844                       1                           0  \n",
       "\n",
       "[5 rows x 24 columns]"
      ]
     },
     "execution_count": 83,
     "metadata": {},
     "output_type": "execute_result"
    }
   ],
   "source": [
    "x_train_ols2 = x_train.drop(['bedrooms_(2, 3]', 'bathrooms_(1, 2]', 'floors_(0, 1]', 'yr_built_(1900, 1950]', \n",
    "                           'season_sold_Fall', 'season_sold_Summer','grade_(0, 4]', 'grade_(4, 5]','grade_(5, 7]',\n",
    "                             'grade_(7, 10]'], axis=1)\n",
    "x_test_ols2 = x_test.drop(['bedrooms_(2, 3]', 'bathrooms_(1, 2]', 'floors_(0, 1]', 'yr_built_(1900, 1950]', \n",
    "                           'season_sold_Fall', 'season_sold_Summer','grade_(0, 4]', 'grade_(4, 5]','grade_(5, 7]',\n",
    "                           'grade_(7, 10]'], axis = 1)\n",
    "x_test_ols2.head()"
   ]
  },
  {
   "cell_type": "code",
   "execution_count": 84,
   "metadata": {
    "scrolled": true
   },
   "outputs": [
    {
     "name": "stdout",
     "output_type": "stream",
     "text": [
      "Pick 1 features\n",
      "price    0.439865\n",
      "dtype: float64\n",
      "Pick 2 features\n",
      "price    0.455564\n",
      "dtype: float64\n",
      "Pick 3 features\n",
      "price    0.496481\n",
      "dtype: float64\n",
      "Pick 4 features\n",
      "price    0.516779\n",
      "dtype: float64\n",
      "Pick 5 features\n",
      "price    0.536419\n",
      "dtype: float64\n",
      "Pick 6 features\n",
      "price    0.555048\n",
      "dtype: float64\n",
      "Pick 7 features\n",
      "price    0.564344\n",
      "dtype: float64\n",
      "Pick 8 features\n",
      "price    0.58738\n",
      "dtype: float64\n",
      "Pick 9 features\n",
      "price    0.588496\n",
      "dtype: float64\n",
      "Pick 10 features\n",
      "price    0.591726\n",
      "dtype: float64\n",
      "Pick 11 features\n",
      "price    0.595216\n",
      "dtype: float64\n",
      "Pick 12 features\n",
      "price    0.59588\n",
      "dtype: float64\n",
      "Pick 13 features\n",
      "price    0.597838\n",
      "dtype: float64\n",
      "Pick 14 features\n",
      "price    0.599981\n",
      "dtype: float64\n",
      "Pick 15 features\n",
      "price    0.600742\n",
      "dtype: float64\n",
      "Pick 16 features\n",
      "price    0.600719\n",
      "dtype: float64\n",
      "Pick 17 features\n",
      "price    0.601284\n",
      "dtype: float64\n",
      "Pick 18 features\n",
      "price    0.602602\n",
      "dtype: float64\n",
      "Pick 19 features\n",
      "price    0.603363\n",
      "dtype: float64\n",
      "Pick 20 features\n",
      "price    0.603542\n",
      "dtype: float64\n",
      "Pick 21 features\n",
      "price    0.604335\n",
      "dtype: float64\n",
      "Pick 22 features\n",
      "price    0.604312\n",
      "dtype: float64\n",
      "Pick 23 features\n",
      "price    0.604584\n",
      "dtype: float64\n",
      "Pick 24 features\n",
      "price    0.60473\n",
      "dtype: float64\n",
      "Pick 25 features\n",
      "price    0.604707\n",
      "dtype: float64\n",
      "Pick 26 features\n",
      "price    0.604684\n",
      "dtype: float64\n",
      "Pick 27 features\n",
      "price    0.604661\n",
      "dtype: float64\n",
      "Pick 28 features\n",
      "price    0.604638\n",
      "dtype: float64\n",
      "Pick 29 features\n",
      "price    0.604683\n",
      "dtype: float64\n",
      "Pick 30 features\n",
      "price    0.60466\n",
      "dtype: float64\n",
      "Pick 31 features\n",
      "price    0.604636\n",
      "dtype: float64\n",
      "Pick 32 features\n",
      "price    0.616099\n",
      "dtype: float64\n",
      "Pick 33 features\n",
      "price    0.616105\n",
      "dtype: float64\n",
      "Pick 34 features\n",
      "price    0.616077\n",
      "dtype: float64\n"
     ]
    }
   ],
   "source": [
    "# separate the predictors and the target\n",
    "X = x_train\n",
    "y = y_train\n",
    "\n",
    "#initialize list to add r_adj values\n",
    "r_squared_adj_list = []\n",
    "    \n",
    "for i in range(len(X.columns)):\n",
    "    print(\"Pick {} features\".format(i+1))\n",
    "    # initialize linear regression object\n",
    "    linear_model = LinearRegression() \n",
    "    selector = RFE(linear_model, n_features_to_select=(i+1)) \n",
    "    \n",
    "    # convert y to 1d np array to prevent DataConversionWarning\n",
    "    selector = selector.fit(X, y.values.ravel()) \n",
    "    \n",
    "    # create list of selected columns\n",
    "    selected_columns = X.columns[selector.support_ ]\n",
    "    \n",
    "    # fit linear regression model\n",
    "    linear_model.fit(X[selected_columns],y) \n",
    "    LinearRegression(copy_X=True, fit_intercept=True, n_jobs=None, normalize=False)\n",
    "    \n",
    "    # predict y_hat values\n",
    "    yhat = linear_model.predict(X[selected_columns]) \n",
    "    \n",
    "    # calculate performance metrics\n",
    "    SS_Residual = np.sum((y-yhat)**2) # calculate SS residual\n",
    "    SS_Total = np.sum((y-np.mean(y))**2) # calculate SS total\n",
    "    r_squared = 1 - (float(SS_Residual))/SS_Total # calculate r_squared\n",
    "    adjusted_r_squared = 1 - (1-r_squared)*(len(y)-1)/(len(y)-X[selected_columns].shape[1]-1) # calculate adjusted r_squared\n",
    "    print(adjusted_r_squared)\n",
    "    r_squared_adj_list.append(adjusted_r_squared)"
   ]
  },
  {
   "cell_type": "code",
   "execution_count": 85,
   "metadata": {
    "scrolled": true
   },
   "outputs": [
    {
     "ename": "ValueError",
     "evalue": "x and y must be the same size",
     "output_type": "error",
     "traceback": [
      "\u001b[0;31m---------------------------------------------------------------------------\u001b[0m",
      "\u001b[0;31mValueError\u001b[0m                                Traceback (most recent call last)",
      "\u001b[0;32m<ipython-input-85-6a6b60d713fd>\u001b[0m in \u001b[0;36m<module>\u001b[0;34m\u001b[0m\n\u001b[1;32m      3\u001b[0m \u001b[0mx\u001b[0m\u001b[0;34m=\u001b[0m\u001b[0mnp\u001b[0m\u001b[0;34m.\u001b[0m\u001b[0marray\u001b[0m\u001b[0;34m(\u001b[0m\u001b[0mrange\u001b[0m\u001b[0;34m(\u001b[0m\u001b[0;36m1\u001b[0m\u001b[0;34m,\u001b[0m\u001b[0;36m184\u001b[0m\u001b[0;34m)\u001b[0m\u001b[0;34m)\u001b[0m\u001b[0;34m\u001b[0m\u001b[0;34m\u001b[0m\u001b[0m\n\u001b[1;32m      4\u001b[0m \u001b[0my2\u001b[0m\u001b[0;34m=\u001b[0m\u001b[0mr_squared_adj_list\u001b[0m\u001b[0;34m\u001b[0m\u001b[0;34m\u001b[0m\u001b[0m\n\u001b[0;32m----> 5\u001b[0;31m \u001b[0mplt\u001b[0m\u001b[0;34m.\u001b[0m\u001b[0mscatter\u001b[0m\u001b[0;34m(\u001b[0m\u001b[0mx\u001b[0m\u001b[0;34m,\u001b[0m\u001b[0my2\u001b[0m\u001b[0;34m)\u001b[0m\u001b[0;34m\u001b[0m\u001b[0;34m\u001b[0m\u001b[0m\n\u001b[0m\u001b[1;32m      6\u001b[0m \u001b[0mplt\u001b[0m\u001b[0;34m.\u001b[0m\u001b[0mtitle\u001b[0m\u001b[0;34m(\u001b[0m\u001b[0;34m\"Number of Features vs. R-Squared Adjusted\"\u001b[0m\u001b[0;34m)\u001b[0m\u001b[0;34m\u001b[0m\u001b[0;34m\u001b[0m\u001b[0m\n\u001b[1;32m      7\u001b[0m \u001b[0mplt\u001b[0m\u001b[0;34m.\u001b[0m\u001b[0mxlabel\u001b[0m\u001b[0;34m(\u001b[0m\u001b[0;34m\"Number of Features\"\u001b[0m\u001b[0;34m)\u001b[0m\u001b[0;34m\u001b[0m\u001b[0;34m\u001b[0m\u001b[0m\n",
      "\u001b[0;32m~/opt/anaconda3/lib/python3.8/site-packages/matplotlib/pyplot.py\u001b[0m in \u001b[0;36mscatter\u001b[0;34m(x, y, s, c, marker, cmap, norm, vmin, vmax, alpha, linewidths, verts, edgecolors, plotnonfinite, data, **kwargs)\u001b[0m\n\u001b[1;32m   2888\u001b[0m         \u001b[0mverts\u001b[0m\u001b[0;34m=\u001b[0m\u001b[0mcbook\u001b[0m\u001b[0;34m.\u001b[0m\u001b[0mdeprecation\u001b[0m\u001b[0;34m.\u001b[0m\u001b[0m_deprecated_parameter\u001b[0m\u001b[0;34m,\u001b[0m\u001b[0;34m\u001b[0m\u001b[0;34m\u001b[0m\u001b[0m\n\u001b[1;32m   2889\u001b[0m         edgecolors=None, *, plotnonfinite=False, data=None, **kwargs):\n\u001b[0;32m-> 2890\u001b[0;31m     __ret = gca().scatter(\n\u001b[0m\u001b[1;32m   2891\u001b[0m         \u001b[0mx\u001b[0m\u001b[0;34m,\u001b[0m \u001b[0my\u001b[0m\u001b[0;34m,\u001b[0m \u001b[0ms\u001b[0m\u001b[0;34m=\u001b[0m\u001b[0ms\u001b[0m\u001b[0;34m,\u001b[0m \u001b[0mc\u001b[0m\u001b[0;34m=\u001b[0m\u001b[0mc\u001b[0m\u001b[0;34m,\u001b[0m \u001b[0mmarker\u001b[0m\u001b[0;34m=\u001b[0m\u001b[0mmarker\u001b[0m\u001b[0;34m,\u001b[0m \u001b[0mcmap\u001b[0m\u001b[0;34m=\u001b[0m\u001b[0mcmap\u001b[0m\u001b[0;34m,\u001b[0m \u001b[0mnorm\u001b[0m\u001b[0;34m=\u001b[0m\u001b[0mnorm\u001b[0m\u001b[0;34m,\u001b[0m\u001b[0;34m\u001b[0m\u001b[0;34m\u001b[0m\u001b[0m\n\u001b[1;32m   2892\u001b[0m         \u001b[0mvmin\u001b[0m\u001b[0;34m=\u001b[0m\u001b[0mvmin\u001b[0m\u001b[0;34m,\u001b[0m \u001b[0mvmax\u001b[0m\u001b[0;34m=\u001b[0m\u001b[0mvmax\u001b[0m\u001b[0;34m,\u001b[0m \u001b[0malpha\u001b[0m\u001b[0;34m=\u001b[0m\u001b[0malpha\u001b[0m\u001b[0;34m,\u001b[0m \u001b[0mlinewidths\u001b[0m\u001b[0;34m=\u001b[0m\u001b[0mlinewidths\u001b[0m\u001b[0;34m,\u001b[0m\u001b[0;34m\u001b[0m\u001b[0;34m\u001b[0m\u001b[0m\n",
      "\u001b[0;32m~/opt/anaconda3/lib/python3.8/site-packages/matplotlib/__init__.py\u001b[0m in \u001b[0;36minner\u001b[0;34m(ax, data, *args, **kwargs)\u001b[0m\n\u001b[1;32m   1436\u001b[0m     \u001b[0;32mdef\u001b[0m \u001b[0minner\u001b[0m\u001b[0;34m(\u001b[0m\u001b[0max\u001b[0m\u001b[0;34m,\u001b[0m \u001b[0;34m*\u001b[0m\u001b[0margs\u001b[0m\u001b[0;34m,\u001b[0m \u001b[0mdata\u001b[0m\u001b[0;34m=\u001b[0m\u001b[0;32mNone\u001b[0m\u001b[0;34m,\u001b[0m \u001b[0;34m**\u001b[0m\u001b[0mkwargs\u001b[0m\u001b[0;34m)\u001b[0m\u001b[0;34m:\u001b[0m\u001b[0;34m\u001b[0m\u001b[0;34m\u001b[0m\u001b[0m\n\u001b[1;32m   1437\u001b[0m         \u001b[0;32mif\u001b[0m \u001b[0mdata\u001b[0m \u001b[0;32mis\u001b[0m \u001b[0;32mNone\u001b[0m\u001b[0;34m:\u001b[0m\u001b[0;34m\u001b[0m\u001b[0;34m\u001b[0m\u001b[0m\n\u001b[0;32m-> 1438\u001b[0;31m             \u001b[0;32mreturn\u001b[0m \u001b[0mfunc\u001b[0m\u001b[0;34m(\u001b[0m\u001b[0max\u001b[0m\u001b[0;34m,\u001b[0m \u001b[0;34m*\u001b[0m\u001b[0mmap\u001b[0m\u001b[0;34m(\u001b[0m\u001b[0msanitize_sequence\u001b[0m\u001b[0;34m,\u001b[0m \u001b[0margs\u001b[0m\u001b[0;34m)\u001b[0m\u001b[0;34m,\u001b[0m \u001b[0;34m**\u001b[0m\u001b[0mkwargs\u001b[0m\u001b[0;34m)\u001b[0m\u001b[0;34m\u001b[0m\u001b[0;34m\u001b[0m\u001b[0m\n\u001b[0m\u001b[1;32m   1439\u001b[0m \u001b[0;34m\u001b[0m\u001b[0m\n\u001b[1;32m   1440\u001b[0m         \u001b[0mbound\u001b[0m \u001b[0;34m=\u001b[0m \u001b[0mnew_sig\u001b[0m\u001b[0;34m.\u001b[0m\u001b[0mbind\u001b[0m\u001b[0;34m(\u001b[0m\u001b[0max\u001b[0m\u001b[0;34m,\u001b[0m \u001b[0;34m*\u001b[0m\u001b[0margs\u001b[0m\u001b[0;34m,\u001b[0m \u001b[0;34m**\u001b[0m\u001b[0mkwargs\u001b[0m\u001b[0;34m)\u001b[0m\u001b[0;34m\u001b[0m\u001b[0;34m\u001b[0m\u001b[0m\n",
      "\u001b[0;32m~/opt/anaconda3/lib/python3.8/site-packages/matplotlib/cbook/deprecation.py\u001b[0m in \u001b[0;36mwrapper\u001b[0;34m(*inner_args, **inner_kwargs)\u001b[0m\n\u001b[1;32m    409\u001b[0m                          \u001b[0;32melse\u001b[0m \u001b[0mdeprecation_addendum\u001b[0m\u001b[0;34m,\u001b[0m\u001b[0;34m\u001b[0m\u001b[0;34m\u001b[0m\u001b[0m\n\u001b[1;32m    410\u001b[0m                 **kwargs)\n\u001b[0;32m--> 411\u001b[0;31m         \u001b[0;32mreturn\u001b[0m \u001b[0mfunc\u001b[0m\u001b[0;34m(\u001b[0m\u001b[0;34m*\u001b[0m\u001b[0minner_args\u001b[0m\u001b[0;34m,\u001b[0m \u001b[0;34m**\u001b[0m\u001b[0minner_kwargs\u001b[0m\u001b[0;34m)\u001b[0m\u001b[0;34m\u001b[0m\u001b[0;34m\u001b[0m\u001b[0m\n\u001b[0m\u001b[1;32m    412\u001b[0m \u001b[0;34m\u001b[0m\u001b[0m\n\u001b[1;32m    413\u001b[0m     \u001b[0;32mreturn\u001b[0m \u001b[0mwrapper\u001b[0m\u001b[0;34m\u001b[0m\u001b[0;34m\u001b[0m\u001b[0m\n",
      "\u001b[0;32m~/opt/anaconda3/lib/python3.8/site-packages/matplotlib/axes/_axes.py\u001b[0m in \u001b[0;36mscatter\u001b[0;34m(self, x, y, s, c, marker, cmap, norm, vmin, vmax, alpha, linewidths, verts, edgecolors, plotnonfinite, **kwargs)\u001b[0m\n\u001b[1;32m   4439\u001b[0m         \u001b[0my\u001b[0m \u001b[0;34m=\u001b[0m \u001b[0mnp\u001b[0m\u001b[0;34m.\u001b[0m\u001b[0mma\u001b[0m\u001b[0;34m.\u001b[0m\u001b[0mravel\u001b[0m\u001b[0;34m(\u001b[0m\u001b[0my\u001b[0m\u001b[0;34m)\u001b[0m\u001b[0;34m\u001b[0m\u001b[0;34m\u001b[0m\u001b[0m\n\u001b[1;32m   4440\u001b[0m         \u001b[0;32mif\u001b[0m \u001b[0mx\u001b[0m\u001b[0;34m.\u001b[0m\u001b[0msize\u001b[0m \u001b[0;34m!=\u001b[0m \u001b[0my\u001b[0m\u001b[0;34m.\u001b[0m\u001b[0msize\u001b[0m\u001b[0;34m:\u001b[0m\u001b[0;34m\u001b[0m\u001b[0;34m\u001b[0m\u001b[0m\n\u001b[0;32m-> 4441\u001b[0;31m             \u001b[0;32mraise\u001b[0m \u001b[0mValueError\u001b[0m\u001b[0;34m(\u001b[0m\u001b[0;34m\"x and y must be the same size\"\u001b[0m\u001b[0;34m)\u001b[0m\u001b[0;34m\u001b[0m\u001b[0;34m\u001b[0m\u001b[0m\n\u001b[0m\u001b[1;32m   4442\u001b[0m \u001b[0;34m\u001b[0m\u001b[0m\n\u001b[1;32m   4443\u001b[0m         \u001b[0;32mif\u001b[0m \u001b[0ms\u001b[0m \u001b[0;32mis\u001b[0m \u001b[0;32mNone\u001b[0m\u001b[0;34m:\u001b[0m\u001b[0;34m\u001b[0m\u001b[0;34m\u001b[0m\u001b[0m\n",
      "\u001b[0;31mValueError\u001b[0m: x and y must be the same size"
     ]
    },
    {
     "data": {
      "image/png": "[encoded data removed]",
      "text/plain": [
       "<Figure size 1080x720 with 1 Axes>"
      ]
     },
     "metadata": {
      "needs_background": "light"
     },
     "output_type": "display_data"
    }
   ],
   "source": [
    "# plot r_squared adjusted against # of features\n",
    "fig, ax = plt.subplots(1,1,figsize=(15,10))\n",
    "x=np.array(range(1,184))\n",
    "y2=r_squared_adj_list\n",
    "plt.scatter(x,y2)\n",
    "plt.title(\"Number of Features vs. R-Squared Adjusted\")\n",
    "plt.xlabel(\"Number of Features\")\n",
    "plt.ylabel(\"R-Squared Adjusted\")"
   ]
  },
  {
   "cell_type": "markdown",
   "metadata": {},
   "source": [
    "### Feature Scaling"
   ]
  },
  {
   "cell_type": "code",
   "execution_count": null,
   "metadata": {
    "scrolled": true
   },
   "outputs": [],
   "source": [
    "scaler = StandardScaler()\n",
    "x_train = scaler.fit_transform(x_train)\n",
    "x_test = scaler.transform(x_test)"
   ]
  },
  {
   "cell_type": "code",
   "execution_count": null,
   "metadata": {},
   "outputs": [],
   "source": [
    "x_train_ols2 = scaler.fit_transform(x_train_ols2)\n",
    "x_test_ols2 = scaler.transform(x_test_ols2)"
   ]
  },
  {
   "cell_type": "markdown",
   "metadata": {},
   "source": [
    "### Model 1"
   ]
  },
  {
   "cell_type": "markdown",
   "metadata": {},
   "source": [
    "#### Linear Regression"
   ]
  },
  {
   "cell_type": "code",
   "execution_count": null,
   "metadata": {},
   "outputs": [],
   "source": [
    "linear_model = LinearRegression()\n",
    "# Train the model on training data\n",
    "linear_model.fit(x_train, y_train)"
   ]
  },
  {
   "cell_type": "markdown",
   "metadata": {},
   "source": [
    "#### Linear model prediction"
   ]
  },
  {
   "cell_type": "code",
   "execution_count": null,
   "metadata": {},
   "outputs": [],
   "source": [
    "# Predict on test data\n",
    "predictions = linear_model.predict(x_test)\n",
    "mse = mean_squared_error(y_test, predictions)\n",
    "rmse = np.sqrt(mse)\n",
    "print(rmse)"
   ]
  },
  {
   "cell_type": "code",
   "execution_count": null,
   "metadata": {},
   "outputs": [],
   "source": [
    "# Get how well it performed\n",
    "mae_linear = mean_absolute_error(y_test, predictions)\n",
    "\n",
    "print(\"Linear: {:,}\".format(mae_linear))"
   ]
  },
  {
   "cell_type": "code",
   "execution_count": null,
   "metadata": {
    "scrolled": false
   },
   "outputs": [],
   "source": [
    "sns.regplot(x=y_test, y=predictions)"
   ]
  },
  {
   "cell_type": "code",
   "execution_count": null,
   "metadata": {},
   "outputs": [],
   "source": [
    "y_hat_train = linear_model.predict(x_train)\n",
    "y_hat_test = linear_model.predict(x_test)"
   ]
  },
  {
   "cell_type": "code",
   "execution_count": null,
   "metadata": {},
   "outputs": [],
   "source": [
    "train_residuals = y_hat_train - y_train\n",
    "test_residuals = y_hat_test - y_test"
   ]
  },
  {
   "cell_type": "code",
   "execution_count": null,
   "metadata": {
    "scrolled": true
   },
   "outputs": [],
   "source": [
    "train_mse = mean_squared_error(y_train, y_hat_train)\n",
    "test_mse = mean_squared_error(y_test, y_hat_test)\n",
    "print('Train Mean Squarred Error:', train_mse)\n",
    "print('Test Mean Squarred Error:', test_mse)"
   ]
  },
  {
   "cell_type": "code",
   "execution_count": null,
   "metadata": {},
   "outputs": [],
   "source": [
    "# Train Mean Squarred Error: 0.09852984028003561\n",
    "# Test Mean Squarred Error: 0.0995161577140719"
   ]
  },
  {
   "cell_type": "code",
   "execution_count": null,
   "metadata": {},
   "outputs": [],
   "source": [
    "print('R^2 train: %.3f, test: %.3f' % (r2_score(y_train, y_hat_train),\n",
    "                r2_score(y_test, y_hat_test)))"
   ]
  },
  {
   "cell_type": "code",
   "execution_count": null,
   "metadata": {},
   "outputs": [],
   "source": [
    "#R^2 train: 0.629, test: 0.620"
   ]
  },
  {
   "cell_type": "markdown",
   "metadata": {},
   "source": [
    "### Model 2"
   ]
  },
  {
   "cell_type": "markdown",
   "metadata": {},
   "source": [
    "#### Decision Tree Regressor"
   ]
  },
  {
   "cell_type": "code",
   "execution_count": null,
   "metadata": {},
   "outputs": [],
   "source": [
    "tree_model = DecisionTreeRegressor()\n",
    "\n",
    "# Train the model on training data\n",
    "tree_model.fit(x_train, y_train)\n",
    "\n",
    "# Predict on test data\n",
    "predictions = tree_model.predict(x_test)"
   ]
  },
  {
   "cell_type": "markdown",
   "metadata": {},
   "source": [
    "#### Tree model prediction"
   ]
  },
  {
   "cell_type": "code",
   "execution_count": null,
   "metadata": {},
   "outputs": [],
   "source": [
    "# Get how well it performed\n",
    "mae_tree = mean_absolute_error(y_test, predictions)\n",
    "\n",
    "print(\"Tree: {:,}\".format(mae_tree))"
   ]
  },
  {
   "cell_type": "code",
   "execution_count": null,
   "metadata": {
    "scrolled": true
   },
   "outputs": [],
   "source": [
    "sns.regplot(x=y_test, y=predictions)"
   ]
  },
  {
   "cell_type": "code",
   "execution_count": null,
   "metadata": {},
   "outputs": [],
   "source": [
    "y_hat_train = tree_model.predict(x_train)\n",
    "y_hat_test = tree_model.predict(x_test)"
   ]
  },
  {
   "cell_type": "code",
   "execution_count": null,
   "metadata": {},
   "outputs": [],
   "source": [
    "#train_residuals = y_hat_train - y_train\n",
    "#test_residuals = y_hat_test - y_test"
   ]
  },
  {
   "cell_type": "code",
   "execution_count": null,
   "metadata": {
    "scrolled": true
   },
   "outputs": [],
   "source": [
    "train_mse = mean_squared_error(y_train, y_hat_train)\n",
    "test_mse = mean_squared_error(y_test, y_hat_test)\n",
    "print('Train Mean Squarred Error:', train_mse)\n",
    "print('Test Mean Squarred Error:', test_mse)"
   ]
  },
  {
   "cell_type": "code",
   "execution_count": null,
   "metadata": {
    "scrolled": true
   },
   "outputs": [],
   "source": [
    "print('R^2 train: %.3f, test: %.3f' % (r2_score(y_train, y_hat_train),\n",
    "                r2_score(y_test, y_hat_test)))\n"
   ]
  },
  {
   "cell_type": "markdown",
   "metadata": {},
   "source": [
    " isssues with overfitting"
   ]
  },
  {
   "cell_type": "markdown",
   "metadata": {},
   "source": [
    "### Model 3"
   ]
  },
  {
   "cell_type": "markdown",
   "metadata": {},
   "source": [
    "#### Random Forest Regressor"
   ]
  },
  {
   "cell_type": "code",
   "execution_count": null,
   "metadata": {},
   "outputs": [],
   "source": [
    "rf_model = RandomForestRegressor()\n",
    "\n",
    "# Train the model on training data\n",
    "rf_model.fit(x_train, y_train)\n",
    "\n",
    "# Predict on test data\n",
    "predictions = rf_model.predict(x_test)"
   ]
  },
  {
   "cell_type": "markdown",
   "metadata": {},
   "source": [
    "#### Random Forest model prediction"
   ]
  },
  {
   "cell_type": "code",
   "execution_count": null,
   "metadata": {},
   "outputs": [],
   "source": [
    "# Get how well it performed\n",
    "mae_rf = mean_absolute_error(y_test, predictions)\n",
    "\n",
    "print(\"Random Forest: {:,}\".format(mae_rf))"
   ]
  },
  {
   "cell_type": "code",
   "execution_count": null,
   "metadata": {
    "scrolled": false
   },
   "outputs": [],
   "source": [
    "sns.regplot(x=y_test, y=predictions)"
   ]
  },
  {
   "cell_type": "code",
   "execution_count": null,
   "metadata": {},
   "outputs": [],
   "source": [
    "y_hat_train = rf_model.predict(x_train)\n",
    "y_hat_test = rf_model.predict(x_test)"
   ]
  },
  {
   "cell_type": "code",
   "execution_count": null,
   "metadata": {
    "scrolled": true
   },
   "outputs": [],
   "source": [
    "train_mse = mean_squared_error(y_train, y_hat_train)\n",
    "test_mse = mean_squared_error(y_test, y_hat_test)\n",
    "print('Train Mean Squarred Error:', train_mse)\n",
    "print('Test Mean Squarred Error:', test_mse)"
   ]
  },
  {
   "cell_type": "code",
   "execution_count": null,
   "metadata": {},
   "outputs": [],
   "source": [
    "print('R^2 train: %.3f, test: %.3f' % (r2_score(y_train, y_hat_train),\n",
    "                r2_score(y_test, y_hat_test)))"
   ]
  },
  {
   "cell_type": "code",
   "execution_count": null,
   "metadata": {},
   "outputs": [],
   "source": [
    "# R^2 train: 0.927, test: 0.578"
   ]
  },
  {
   "cell_type": "code",
   "execution_count": null,
   "metadata": {
    "scrolled": true
   },
   "outputs": [],
   "source": [
    "# feats = {} # a dict to hold feature_name: feature_importance\n",
    "# for feature, importance in zip(x_train.columns, model.feature_importances_):\n",
    "#     feats[feature] = importance #add the name/value pair \n",
    "\n",
    "# importances = pd.DataFrame.from_dict(feats, orient='index').rename(columns={0: 'Gini-importance'})\n",
    "# importances.sort_values(by='Gini-importance').plot(kind='bar', rot=45)"
   ]
  },
  {
   "cell_type": "code",
   "execution_count": null,
   "metadata": {
    "scrolled": true
   },
   "outputs": [],
   "source": [
    "feat_importances = pd.Series(rf_model.feature_importances_, index = rfm_columns)\n",
    "feat_importances.nlargest(20).plot(kind='barh')"
   ]
  },
  {
   "cell_type": "markdown",
   "metadata": {},
   "source": [
    "### Model 4"
   ]
  },
  {
   "cell_type": "markdown",
   "metadata": {},
   "source": [
    "#### OLS"
   ]
  },
  {
   "cell_type": "code",
   "execution_count": null,
   "metadata": {},
   "outputs": [],
   "source": [
    "x_train1 = sm.add_constant(x_train)"
   ]
  },
  {
   "cell_type": "code",
   "execution_count": null,
   "metadata": {},
   "outputs": [],
   "source": [
    "x_test1 = sm.add_constant(x_test)"
   ]
  },
  {
   "cell_type": "code",
   "execution_count": null,
   "metadata": {},
   "outputs": [],
   "source": [
    "result = sm.OLS(y_train,x_train1).fit()"
   ]
  },
  {
   "cell_type": "markdown",
   "metadata": {},
   "source": [
    "#### OLS model prediction"
   ]
  },
  {
   "cell_type": "code",
   "execution_count": null,
   "metadata": {
    "scrolled": false
   },
   "outputs": [],
   "source": [
    "print(result.rsquared, result.rsquared_adj)"
   ]
  },
  {
   "cell_type": "code",
   "execution_count": null,
   "metadata": {
    "scrolled": true
   },
   "outputs": [],
   "source": [
    "print(result.summary(xname= xname_columns))"
   ]
  },
  {
   "cell_type": "markdown",
   "metadata": {},
   "source": [
    "Looking at our OLS summary all grade bins have high pvalue and high st err we should remove this feature completly.\n",
    "\n",
    "OTHER HIGH PVALUES\n",
    "bedrooms_(2, 3]\n",
    "bathrooms_(1, 2]\n",
    "floors_(0, 1]\n",
    "yr_built_(1900, 19500]\n",
    "season_sold_Fall              \n",
    "season_sold_Summer\n"
   ]
  },
  {
   "cell_type": "markdown",
   "metadata": {},
   "source": [
    "### Model Reiteration and Feature Selection"
   ]
  },
  {
   "cell_type": "markdown",
   "metadata": {},
   "source": [
    "#### Random Forest Regressor - 2"
   ]
  },
  {
   "cell_type": "markdown",
   "metadata": {},
   "source": [
    "Using the Feature Importance graph let's take a look at random forest model with only the top 20 features"
   ]
  },
  {
   "cell_type": "code",
   "execution_count": null,
   "metadata": {},
   "outputs": [],
   "source": [
    "feat_importances = pd.Series(rf_model.feature_importances_)\n",
    "feat_importances.nlargest(20).plot(kind='barh')"
   ]
  },
  {
   "cell_type": "code",
   "execution_count": null,
   "metadata": {},
   "outputs": [],
   "source": [
    "#rf_model_2_index = [0,15,19,17,30,20,26,27,25,28,33,2,14,18,13,31,32,3,16,23]"
   ]
  },
  {
   "cell_type": "code",
   "execution_count": null,
   "metadata": {},
   "outputs": [],
   "source": [
    "rf2_model = RandomForestRegressor()\n",
    "\n",
    "# Train the model on training data\n",
    "rf2_model.fit(x_train_rf2, y_train)"
   ]
  },
  {
   "cell_type": "markdown",
   "metadata": {},
   "source": [
    "#### Random Forest model prediction -2"
   ]
  },
  {
   "cell_type": "code",
   "execution_count": null,
   "metadata": {},
   "outputs": [],
   "source": [
    "# Predict on test data\n",
    "predictions = rf2_model.predict(x_test_rf2)"
   ]
  },
  {
   "cell_type": "code",
   "execution_count": null,
   "metadata": {},
   "outputs": [],
   "source": [
    "##### Get how well it performed\n",
    "mae_rf = mean_absolute_error(y_test, predictions)\n",
    "\n",
    "print(\"Random Forest: {:,}\".format(mae_rf))"
   ]
  },
  {
   "cell_type": "code",
   "execution_count": null,
   "metadata": {
    "scrolled": false
   },
   "outputs": [],
   "source": [
    "sns.regplot(x=y_test, y=predictions)"
   ]
  },
  {
   "cell_type": "code",
   "execution_count": null,
   "metadata": {},
   "outputs": [],
   "source": [
    "y_hat_train = rf2_model.predict(x_train_rf2)\n",
    "y_hat_test = rf2_model.predict(x_test_rf2)"
   ]
  },
  {
   "cell_type": "code",
   "execution_count": null,
   "metadata": {
    "scrolled": true
   },
   "outputs": [],
   "source": [
    "train_mse = mean_squared_error(y_train, y_hat_train)\n",
    "test_mse = mean_squared_error(y_test, y_hat_test)\n",
    "print('Train Mean Squarred Error:', train_mse)\n",
    "print('Test Mean Squarred Error:', test_mse)"
   ]
  },
  {
   "cell_type": "code",
   "execution_count": null,
   "metadata": {},
   "outputs": [],
   "source": [
    "print('R^2 train: %.3f, test: %.3f' % (r2_score(y_train, y_hat_train),\n",
    "                r2_score(y_test, y_hat_test)))"
   ]
  },
  {
   "cell_type": "code",
   "execution_count": null,
   "metadata": {},
   "outputs": [],
   "source": [
    "# Selecting top 20 features did not improve our Random Forest Model performance"
   ]
  },
  {
   "cell_type": "code",
   "execution_count": null,
   "metadata": {},
   "outputs": [],
   "source": [
    "# R^2 train: 0.927, test: 0.578"
   ]
  },
  {
   "cell_type": "code",
   "execution_count": null,
   "metadata": {
    "scrolled": true
   },
   "outputs": [],
   "source": [
    "# feats = {} # a dict to hold feature_name: feature_importance\n",
    "# for feature, importance in zip(x_train.columns, model.feature_importances_):\n",
    "#     feats[feature] = importance #add the name/value pair \n",
    "\n",
    "# importances = pd.DataFrame.from_dict(feats, orient='index').rename(columns={0: 'Gini-importance'})\n",
    "# importances.sort_values(by='Gini-importance').plot(kind='bar', rot=45)"
   ]
  },
  {
   "cell_type": "code",
   "execution_count": null,
   "metadata": {
    "scrolled": true
   },
   "outputs": [],
   "source": [
    "feat_importances = pd.Series(rf_model.feature_importances_, index = rfm_columns)\n",
    "feat_importances.nlargest(20).plot(kind='barh')"
   ]
  },
  {
   "cell_type": "markdown",
   "metadata": {},
   "source": [
    "#### OLS - 2"
   ]
  },
  {
   "cell_type": "markdown",
   "metadata": {},
   "source": [
    "Using our OlS results summary let's take a look at our OLS model with features removed which have high std err and pvalues."
   ]
  },
  {
   "cell_type": "code",
   "execution_count": null,
   "metadata": {},
   "outputs": [],
   "source": [
    "x_train1 = sm.add_constant(x_train_ols2)"
   ]
  },
  {
   "cell_type": "code",
   "execution_count": null,
   "metadata": {},
   "outputs": [],
   "source": [
    "x_test1 = sm.add_constant(x_test_ols2)"
   ]
  },
  {
   "cell_type": "code",
   "execution_count": null,
   "metadata": {},
   "outputs": [],
   "source": [
    "result = sm.OLS(y_train,x_train1).fit()"
   ]
  },
  {
   "cell_type": "markdown",
   "metadata": {},
   "source": [
    "#### OLS model prediction - 2"
   ]
  },
  {
   "cell_type": "code",
   "execution_count": null,
   "metadata": {
    "scrolled": false
   },
   "outputs": [],
   "source": [
    "print(result.rsquared, result.rsquared_adj)"
   ]
  },
  {
   "cell_type": "code",
   "execution_count": null,
   "metadata": {
    "scrolled": false
   },
   "outputs": [],
   "source": [
    "print(result.summary(xname= xname2_columns))"
   ]
  },
  {
   "cell_type": "markdown",
   "metadata": {},
   "source": [
    "Looking at our OLS summary all grade bins have high pvalue and high st err we should remove this feature completly.\n",
    "\n",
    "OTHER HIGH PVALUES\n",
    "- bedrooms_(2, 3]\n",
    "- bathrooms_(1, 2]\n",
    "- floors_(0, 1]\n",
    "- yr_built_(1900, 1950]\n",
    "- season_sold_Fall              \n",
    "- season_sold_Summer\n"
   ]
  },
  {
   "cell_type": "markdown",
   "metadata": {},
   "source": [
    "### k-fold cross validation"
   ]
  },
  {
   "cell_type": "code",
   "execution_count": null,
   "metadata": {},
   "outputs": [],
   "source": [
    "cross_validation_5 = KFold(5, shuffle=True)\n",
    "cross_validation_10 = KFold(5, shuffle=True)\n",
    "cross_validation_20 = KFold(5, shuffle=True)"
   ]
  },
  {
   "cell_type": "code",
   "execution_count": null,
   "metadata": {
    "scrolled": true
   },
   "outputs": [],
   "source": [
    "# set scoring argument to 'neg_mean_squared_error'. This negates mean squared error, so larger means better!\n",
    "cv_5_results  = np.mean(cross_val_score(linear_model, x, y, cv=cross_validation_5,  scoring='neg_mean_squared_error'))\n",
    "cv_10_results = np.mean(cross_val_score(linear_model, x, y, cv=cross_validation_10, scoring='neg_mean_squared_error'))\n",
    "cv_20_results = np.mean(cross_val_score(linear_model, x, y, cv=cross_validation_20, scoring='neg_mean_squared_error'))"
   ]
  },
  {
   "cell_type": "code",
   "execution_count": null,
   "metadata": {},
   "outputs": [],
   "source": [
    "cv_5_results"
   ]
  },
  {
   "cell_type": "code",
   "execution_count": null,
   "metadata": {},
   "outputs": [],
   "source": [
    "cv_10_results"
   ]
  },
  {
   "cell_type": "code",
   "execution_count": null,
   "metadata": {
    "scrolled": true
   },
   "outputs": [],
   "source": [
    "cv_20_results"
   ]
  },
  {
   "cell_type": "markdown",
   "metadata": {},
   "source": [
    "#### Normality"
   ]
  },
  {
   "cell_type": "markdown",
   "metadata": {},
   "source": []
  },
  {
   "cell_type": "code",
   "execution_count": null,
   "metadata": {},
   "outputs": [],
   "source": [
    "fig = sm.graphics.qqplot(result.resid, dist=stats.norm, line='45', fit=True)"
   ]
  },
  {
   "cell_type": "markdown",
   "metadata": {},
   "source": [
    "Normality looks good"
   ]
  },
  {
   "cell_type": "markdown",
   "metadata": {},
   "source": [
    "#### Homoskedasticity"
   ]
  },
  {
   "cell_type": "code",
   "execution_count": null,
   "metadata": {},
   "outputs": [],
   "source": [
    "plt.figure(figsize=(12,5))\n",
    "plt.scatter(result.predict(x_train1), result.resid)\n"
   ]
  },
  {
   "cell_type": "markdown",
   "metadata": {},
   "source": [
    "Homoskedasticity looks ok"
   ]
  },
  {
   "cell_type": "markdown",
   "metadata": {},
   "source": [
    "## Summary"
   ]
  },
  {
   "cell_type": "markdown",
   "metadata": {},
   "source": [
    "Our final model has an r-squared-adjusted value of 0.656. \n",
    "Our model performs about the same with the train and test data so we don't seem to have an overfitting issue.\n",
    "Normality and homoskedasticity looked good in our visualizations.\n",
    "\n",
    "Expansion of data and more development is needed to make our model viable for use as a pricing model\n"
   ]
  },
  {
   "cell_type": "markdown",
   "metadata": {},
   "source": [
    "## Recommendations"
   ]
  },
  {
   "cell_type": "markdown",
   "metadata": {},
   "source": [
    "- Sell houses in the Spring and Summer. More houses are purchased during this time and they tend to sell for higher prices.\n",
    "- Our most important and reliable factor for predicting a home price is sqft_living\n",
    "- The King County process for giving house grades may be out of touch with buyer preferences. The King County grading system was one of the most unreliable factors and should not be relied upon for predicting home price. \n",
    "- Expand data set beyond houses sold in 2014 and 2015. Having more current data would make the model more accurate."
   ]
  },
  {
   "cell_type": "markdown",
   "metadata": {},
   "source": [
    "Engineering features for the linear model (ratios,eg bath to br, look at coeffs to find most important features driving model, scaling data to make coeffs comparable)\n",
    "if anything depends  on rows in data do after split\n"
   ]
  }
 ],
 "metadata": {
  "kernelspec": {
   "display_name": "Python 3",
   "language": "python",
   "name": "python3"
  },
  "language_info": {
   "codemirror_mode": {
    "name": "ipython",
    "version": 3
   },
   "file_extension": ".py",
   "mimetype": "text/x-python",
   "name": "python",
   "nbconvert_exporter": "python",
   "pygments_lexer": "ipython3",
   "version": "3.8.5"
  }
 },
 "nbformat": 4,
 "nbformat_minor": 4
}
